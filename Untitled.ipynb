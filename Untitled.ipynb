{
 "cells": [
  {
   "cell_type": "code",
   "execution_count": 1,
   "metadata": {},
   "outputs": [
    {
     "data": {
      "text/html": [
       "\n",
       "<div id=\"altair-viz-13fef05ddf42460592bdf8d8ddd843ee\"></div>\n",
       "<script type=\"text/javascript\">\n",
       "  (function(spec, embedOpt){\n",
       "    let outputDiv = document.currentScript.previousElementSibling;\n",
       "    if (outputDiv.id !== \"altair-viz-13fef05ddf42460592bdf8d8ddd843ee\") {\n",
       "      outputDiv = document.getElementById(\"altair-viz-13fef05ddf42460592bdf8d8ddd843ee\");\n",
       "    }\n",
       "    const paths = {\n",
       "      \"vega\": \"https://cdn.jsdelivr.net/npm//vega@5?noext\",\n",
       "      \"vega-lib\": \"https://cdn.jsdelivr.net/npm//vega-lib?noext\",\n",
       "      \"vega-lite\": \"https://cdn.jsdelivr.net/npm//vega-lite@4.8.1?noext\",\n",
       "      \"vega-embed\": \"https://cdn.jsdelivr.net/npm//vega-embed@6?noext\",\n",
       "    };\n",
       "\n",
       "    function loadScript(lib) {\n",
       "      return new Promise(function(resolve, reject) {\n",
       "        var s = document.createElement('script');\n",
       "        s.src = paths[lib];\n",
       "        s.async = true;\n",
       "        s.onload = () => resolve(paths[lib]);\n",
       "        s.onerror = () => reject(`Error loading script: ${paths[lib]}`);\n",
       "        document.getElementsByTagName(\"head\")[0].appendChild(s);\n",
       "      });\n",
       "    }\n",
       "\n",
       "    function showError(err) {\n",
       "      outputDiv.innerHTML = `<div class=\"error\" style=\"color:red;\">${err}</div>`;\n",
       "      throw err;\n",
       "    }\n",
       "\n",
       "    function displayChart(vegaEmbed) {\n",
       "      vegaEmbed(outputDiv, spec, embedOpt)\n",
       "        .catch(err => showError(`Javascript Error: ${err.message}<br>This usually means there's a typo in your chart specification. See the javascript console for the full traceback.`));\n",
       "    }\n",
       "\n",
       "    if(typeof define === \"function\" && define.amd) {\n",
       "      requirejs.config({paths});\n",
       "      require([\"vega-embed\"], displayChart, err => showError(`Error loading script: ${err.message}`));\n",
       "    } else if (typeof vegaEmbed === \"function\") {\n",
       "      displayChart(vegaEmbed);\n",
       "    } else {\n",
       "      loadScript(\"vega\")\n",
       "        .then(() => loadScript(\"vega-lite\"))\n",
       "        .then(() => loadScript(\"vega-embed\"))\n",
       "        .catch(showError)\n",
       "        .then(() => displayChart(vegaEmbed));\n",
       "    }\n",
       "  })({\"config\": {\"view\": {\"continuousWidth\": 400, \"continuousHeight\": 300}}, \"data\": {\"name\": \"data-ded9e650ec702f296c1982da2caad281\", \"format\": {\"mesh\": \"data\", \"type\": \"topojson\"}}, \"mark\": {\"type\": \"geoshape\", \"filled\": false}, \"projection\": {\"reflectY\": true, \"type\": \"identity\"}, \"width\": 300, \"$schema\": \"https://vega.github.io/schema/vega-lite/v4.8.1.json\", \"datasets\": {\"data-ded9e650ec702f296c1982da2caad281\": {\"type\": \"Topology\", \"objects\": {\"data\": {\"geometries\": [{\"type\": \"Polygon\", \"arcs\": [[-2, 0]]}, {\"type\": \"Polygon\", \"arcs\": [[1, 2]]}], \"type\": \"GeometryCollection\"}}, \"bbox\": [0.0, 0.0, 2.0, 1.0], \"transform\": {\"scale\": [2.000002000002e-06, 1.000001000001e-06], \"translate\": [0.0, 0.0]}, \"arcs\": [[[500000, 0], [-500000, 0], [0, 999999], [500000, 0]], [[500000, 0], [0, 999999]], [[500000, 999999], [499999, 0], [0, -999999], [-499999, 0]]]}}}, {\"mode\": \"vega-lite\"});\n",
       "</script>"
      ],
      "text/plain": [
       "alt.Chart(...)"
      ]
     },
     "execution_count": 1,
     "metadata": {},
     "output_type": "execute_result"
    }
   ],
   "source": [
    "from shapely.wkt import loads\n",
    "import topojson\n",
    "from topojson.core.extract import Extract\n",
    "from topojson.core.cut import Cut\n",
    "from topojson.core.dedup import Dedup\n",
    "\n",
    "# data = [\n",
    "#     {\"type\": \"LineString\", \"coordinates\": [(1,0),(2,0),(3,0),(4,0),(5,0)]},\n",
    "#     {\"type\": \"LineString\", \"coordinates\": [(5,0),(4,-1),(4,0),(4,1),(3,1),(3,0),(2,1),(2,0),(1,0),(1,1)]},\n",
    "# ]\n",
    "\n",
    "data = {\n",
    "    \"abcda\": {\n",
    "        \"type\": \"Polygon\",\n",
    "        \"coordinates\": [[[0, 0], [1, 0], [1, 1], [0, 1], [0, 0]]],\n",
    "    },  # rotated to BCDAB, cut BC-CDAB\n",
    "    \"befcb\": {\n",
    "        \"type\": \"Polygon\",\n",
    "        \"coordinates\": [[[1, 0], [2, 0], [2, 1], [1, 1], [1, 0]]],\n",
    "    },\n",
    "}\n",
    "\n",
    "\n",
    "\n",
    "# topojson.Topology(data, shared_coords=False)  # this works (in this case)\n",
    "topojson.Topology(data, shared_coords=True).to_alt()"
   ]
  },
  {
   "cell_type": "code",
   "execution_count": 2,
   "metadata": {},
   "outputs": [],
   "source": [
    "%matplotlib inline"
   ]
  },
  {
   "cell_type": "code",
   "execution_count": 3,
   "metadata": {},
   "outputs": [
    {
     "data": {
      "image/svg+xml": [
       "<svg xmlns=\"http://www.w3.org/2000/svg\" xmlns:xlink=\"http://www.w3.org/1999/xlink\" width=\"100.0\" height=\"100.0\" viewBox=\"15.309046274484848 -35.17245125095846 19.212571989009135 27.970125293080635\" preserveAspectRatio=\"xMinYMin meet\"><g transform=\"matrix(1,0,0,-1,0,-42.374777208836285)\"><g><polyline fill=\"none\" stroke=\"#66cc99\" stroke-width=\"0.5594025058616127\" points=\"31.19140913262129,-22.2515096981724 32.46213260267845,-28.301011244420557 25.780628289500697,-33.94464609144834 18.377410922934615,-34.13652068454807 16.344976840895242,-28.5767050106977 19.894734327888614,-28.461104831660776 19.895767856534434,-24.76779021576059\" opacity=\"0.8\" /><polyline fill=\"none\" stroke=\"#66cc99\" stroke-width=\"0.5594025058616127\" points=\"28.978262566857243,-28.95559661226171 28.074338413207784,-28.851468601193588 26.999261915807637,-29.875953871379984 28.107204624145425,-30.54573211031495 28.978262566857243,-28.95559661226171\" opacity=\"0.8\" /><polyline fill=\"none\" stroke=\"#66cc99\" stroke-width=\"0.5594025058616127\" points=\"31.19140913262129,-22.2515096981724 29.43218834810904,-22.091312758067588\" opacity=\"0.8\" /><polyline fill=\"none\" stroke=\"#66cc99\" stroke-width=\"0.5594025058616127\" points=\"30.27425581230511,-15.507786960515213 32.847638787575846,-16.713398125884616 31.19140913262129,-22.2515096981724\" opacity=\"0.8\" /><polyline fill=\"none\" stroke=\"#66cc99\" stroke-width=\"0.5594025058616127\" points=\"29.43218834810904,-22.091312758067588 21.605896030369394,-26.726533705351756 19.895767856534434,-24.76779021576059\" opacity=\"0.8\" /><polyline fill=\"none\" stroke=\"#66cc99\" stroke-width=\"0.5594025058616127\" points=\"19.895767856534434,-24.76779021576059 20.910641310314535,-18.252218926672022 25.08444339366457,-17.661815687737374\" opacity=\"0.8\" /><polyline fill=\"none\" stroke=\"#66cc99\" stroke-width=\"0.5594025058616127\" points=\"25.264225701608012,-17.736539808831417 29.43218834810904,-22.091312758067588\" opacity=\"0.8\" /><polyline fill=\"none\" stroke=\"#66cc99\" stroke-width=\"0.5594025058616127\" points=\"30.27425581230511,-15.507786960515213 25.264225701608012,-17.736539808831417\" opacity=\"0.8\" /><polyline fill=\"none\" stroke=\"#66cc99\" stroke-width=\"0.5594025058616127\" points=\"25.264225701608012,-17.736539808831417 25.08444339366457,-17.661815687737374\" opacity=\"0.8\" /><polyline fill=\"none\" stroke=\"#66cc99\" stroke-width=\"0.5594025058616127\" points=\"25.08444339366457,-17.661815687737374 21.933886346125917,-12.898437188369359 23.912215203555718,-10.926826267137514 29.69961388521949,-13.257226657771831 30.346086053190817,-8.238256524288218 33.48568769708359,-10.525558770391115 30.27425581230511,-15.507786960515213\" opacity=\"0.8\" /></g></g></svg>"
      ],
      "text/plain": [
       "<shapely.geometry.multilinestring.MultiLineString at 0x163034fe0c8>"
      ]
     },
     "metadata": {},
     "output_type": "display_data"
    }
   ],
   "source": [
    "import geopandas\n",
    "from topojson.core.hashmap import Hashmap\n",
    "\n",
    "data = geopandas.read_file(geopandas.datasets.get_path(\"naturalearth_lowres\"))\n",
    "data = data[\n",
    "    (data.name == \"Botswana\")\n",
    "    | (data.name == \"South Africa\")\n",
    "    | (data.name == \"Zimbabwe\")\n",
    "    | (data.name == \"Zambia\")\n",
    "]\n",
    "\n",
    "# data = geopandas.read_file(geopandas.datasets.get_path(\"naturalearth_lowres\"))\n",
    "# data = data[\n",
    "#     (data.name == \"Togo\") | (data.name == \"Benin\") | (data.name == \"Burkina Faso\")\n",
    "# ]\n",
    "#topo = Dedup(data)\n",
    "topo = topojson.Topology(data, prequantize=False).toposimplify(2)\n",
    "topo.to_svg()"
   ]
  },
  {
   "cell_type": "code",
   "execution_count": 4,
   "metadata": {},
   "outputs": [
    {
     "data": {
      "text/plain": [
       "Topology(\n",
       "{'arcs': [[[31.19140913262129, -22.2515096981724],\n",
       "           [32.46213260267845, -28.301011244420557],\n",
       "           [25.780628289500697, -33.94464609144834],\n",
       "           [18.377410922934615, -34.13652068454807],\n",
       "           [16.344976840895242, -28.5767050106977],\n",
       "           [19.894734327888614, -28.461104831660776],\n",
       "           [19.895767856534434, -24.76779021576059]],\n",
       "          [[28.978262566857243, -28.95559661226171],\n",
       "           [28.074338413207784, -28.851468601193588],\n",
       "           [26.999261915807637, -29.875953871379984],\n",
       "           [28.107204624145425, -30.54573211031495],\n",
       "           [28.978262566857243, -28.95559661226171]],\n",
       "          [[31.19140913262129, -22.2515096981724],\n",
       "           [29.43218834810904, -22.091312758067588]],\n",
       "          [[30.27425581230511, -15.507786960515213],\n",
       "           [32.847638787575846, -16.713398125884616],\n",
       "           [31.19140913262129, -22.2515096981724]],\n",
       "          [[29.43218834810904, -22.091312758067588],\n",
       "           [21.605896030369394, -26.726533705351756],\n",
       "           [19.895767856534434, -24.76779021576059]],\n",
       "          [[19.895767856534434, -24.76779021576059],\n",
       "           [20.910641310314535, -18.252218926672022],\n",
       "           [25.08444339366457, -17.661815687737374]],\n",
       "          [[25.264225701608012, -17.736539808831417],\n",
       "           [29.43218834810904, -22.091312758067588]],\n",
       "          [[30.27425581230511, -15.507786960515213],\n",
       "           [25.264225701608012, -17.736539808831417]],\n",
       "          [[25.264225701608012, -17.736539808831417],\n",
       "           [25.08444339366457, -17.661815687737374]],\n",
       "          [[25.08444339366457, -17.661815687737374],\n",
       "           [21.933886346125917, -12.898437188369359],\n",
       "           [23.912215203555718, -10.926826267137514],\n",
       "           [29.69961388521949, -13.257226657771831],\n",
       "           [30.346086053190817, -8.238256524288218],\n",
       "           [33.48568769708359, -10.525558770391115],\n",
       "           [30.27425581230511, -15.507786960515213]]],\n",
       " 'bbox': (16.344976840895242,\n",
       "          -34.81916635512371,\n",
       "          33.48568769708359,\n",
       "          -8.238256524288218),\n",
       " 'coordinates': [],\n",
       " 'objects': {'data': {'geometries': [{'arcs': [[-5, -3, 0], [1]],\n",
       "                                      'properties': {'continent': 'Africa',\n",
       "                                                     'gdp_md_est': 739100.0,\n",
       "                                                     'iso_a3': 'ZAF',\n",
       "                                                     'name': 'South Africa',\n",
       "                                                     'pop_est': 54841552},\n",
       "                                      'type': 'Polygon'},\n",
       "                                     {'arcs': [[2, -7, -8, 3]],\n",
       "                                      'properties': {'continent': 'Africa',\n",
       "                                                     'gdp_md_est': 28330.0,\n",
       "                                                     'iso_a3': 'ZWE',\n",
       "                                                     'name': 'Zimbabwe',\n",
       "                                                     'pop_est': 13805084},\n",
       "                                      'type': 'Polygon'},\n",
       "                                     {'arcs': [[4, 5, -9, 6]],\n",
       "                                      'properties': {'continent': 'Africa',\n",
       "                                                     'gdp_md_est': 35900.0,\n",
       "                                                     'iso_a3': 'BWA',\n",
       "                                                     'name': 'Botswana',\n",
       "                                                     'pop_est': 2214858},\n",
       "                                      'type': 'Polygon'},\n",
       "                                     {'arcs': [[7, 8, 9]],\n",
       "                                      'properties': {'continent': 'Africa',\n",
       "                                                     'gdp_md_est': 65170.0,\n",
       "                                                     'iso_a3': 'ZMB',\n",
       "                                                     'name': 'Zambia',\n",
       "                                                     'pop_est': 15972000},\n",
       "                                      'type': 'Polygon'}],\n",
       "                      'type': 'GeometryCollection'}},\n",
       " 'type': 'Topology'}\n",
       ")"
      ]
     },
     "execution_count": 4,
     "metadata": {},
     "output_type": "execute_result"
    }
   ],
   "source": [
    "topo"
   ]
  },
  {
   "cell_type": "code",
   "execution_count": 5,
   "metadata": {},
   "outputs": [
    {
     "data": {
      "image/svg+xml": [
       "<svg xmlns=\"http://www.w3.org/2000/svg\" xmlns:xlink=\"http://www.w3.org/1999/xlink\" width=\"100.0\" height=\"100.0\" viewBox=\"15.700290610423913 -34.781206915019396 17.406528222725868 13.334580387423138\" preserveAspectRatio=\"xMinYMin meet\"><g transform=\"matrix(1,0,0,-1,0,-56.227833442615655)\"><path fill-rule=\"evenodd\" fill=\"#66cc99\" stroke=\"#555555\" stroke-width=\"0.34813056445451734\" opacity=\"0.6\" d=\"M 19.895767856534434,-24.76779021576059 L 21.605896030369394,-26.726533705351756 L 29.43218834810904,-22.091312758067588 L 31.19140913262129,-22.2515096981724 L 32.46213260267845,-28.301011244420557 L 25.780628289500697,-33.94464609144834 L 18.377410922934615,-34.13652068454807 L 16.344976840895242,-28.5767050106977 L 19.894734327888614,-28.461104831660776 L 19.895767856534434,-24.76779021576059 z M 28.978262566857243,-28.95559661226171 L 28.074338413207784,-28.851468601193588 L 26.999261915807637,-29.875953871379984 L 28.107204624145425,-30.54573211031495 L 28.978262566857243,-28.95559661226171 z\" /></g></svg>"
      ],
      "text/plain": [
       "<shapely.geometry.polygon.Polygon at 0x163035156c8>"
      ]
     },
     "execution_count": 5,
     "metadata": {},
     "output_type": "execute_result"
    }
   ],
   "source": [
    "# import json\n",
    "# geopandas.GeoDataFrame().from_features(json.loads(topo.to_geojson())['features']).plot()\n",
    "topo.to_gdf().iloc[0].geometry"
   ]
  },
  {
   "cell_type": "code",
   "execution_count": 6,
   "metadata": {},
   "outputs": [
    {
     "data": {
      "text/plain": [
       "'POLYGON ((19.89576785653443 -24.76779021576059, 21.60589603036939 -26.72653370535176, 29.43218834810904 -22.09131275806759, 31.19140913262129 -22.2515096981724, 32.46213260267845 -28.30101124442056, 25.7806282895007 -33.94464609144834, 18.37741092293462 -34.13652068454807, 16.34497684089524 -28.5767050106977, 19.89473432788861 -28.46110483166078, 19.89576785653443 -24.76779021576059), (28.97826256685724 -28.95559661226171, 28.07433841320778 -28.85146860119359, 26.99926191580764 -29.87595387137998, 28.10720462414542 -30.54573211031495, 28.97826256685724 -28.95559661226171))'"
      ]
     },
     "execution_count": 6,
     "metadata": {},
     "output_type": "execute_result"
    }
   ],
   "source": [
    "topo.to_gdf().iloc[0].geometry.wkt"
   ]
  },
  {
   "cell_type": "code",
   "execution_count": 8,
   "metadata": {},
   "outputs": [
    {
     "data": {
      "text/plain": [
       "<matplotlib.axes._subplots.AxesSubplot at 0x16303524dc8>"
      ]
     },
     "execution_count": 8,
     "metadata": {},
     "output_type": "execute_result"
    },
    {
     "data": {
      "image/png": "[encoded data removed]",
      "text/plain": [
       "<Figure size 432x288 with 1 Axes>"
      ]
     },
     "metadata": {
      "needs_background": "light"
     },
     "output_type": "display_data"
    }
   ],
   "source": [
    "topo.to_gdf().plot()"
   ]
  },
  {
   "cell_type": "code",
   "execution_count": 9,
   "metadata": {},
   "outputs": [],
   "source": [
    "import pandas\n",
    "import geopandas\n",
    "import topojson as tp\n",
    "from shapely.wkt import loads\n",
    "\n",
    "df = pandas.DataFrame({\n",
    "    \"name\": [\"P1\", \"P2\", \"P3\"],\n",
    "    \"geometry\": [\n",
    "        \"POLYGON ((60.05 88.85, 60.3 86.9, 61.9 73.4, 51.85 72.1, 50.8 80.5, 57.95 81.4, 57.5 85.05, 59.05 85.25, 58.85 87.15, 60.05 88.85))\",\n",
    "        \"POLYGON ((66.35 90.55, 65.75 86.8, 64.5 81.1, 63.7 77, 63 73.55, 61.9 73.4, 60.3 86.9, 64.15 87.45, 64.85 90.8, 66.35 90.55))\",\n",
    "        \"POLYGON ((65.75 86.8, 70.5 87.45, 71.45 79, 69.85 78.85, 70.3 74.5, 64.15 73.75, 63.7 77, 64.5 81.1, 66.45 81.35, 65.75 86.8))\"\n",
    "    ]\n",
    "})\n",
    "\n",
    "df['geometry'] = df['geometry'].apply(loads)\n",
    "gdf = geopandas.GeoDataFrame(df, geometry='geometry', crs='EPSG:27700')\n",
    "topo = tp.Topology(gdf, prequantize=False)"
   ]
  },
  {
   "cell_type": "code",
   "execution_count": 10,
   "metadata": {},
   "outputs": [
    {
     "data": {
      "text/html": [
       "\n",
       "<div id=\"altair-viz-ceed25ff0f8240c3a2d7df5f21554eb0\"></div>\n",
       "<script type=\"text/javascript\">\n",
       "  (function(spec, embedOpt){\n",
       "    let outputDiv = document.currentScript.previousElementSibling;\n",
       "    if (outputDiv.id !== \"altair-viz-ceed25ff0f8240c3a2d7df5f21554eb0\") {\n",
       "      outputDiv = document.getElementById(\"altair-viz-ceed25ff0f8240c3a2d7df5f21554eb0\");\n",
       "    }\n",
       "    const paths = {\n",
       "      \"vega\": \"https://cdn.jsdelivr.net/npm//vega@5?noext\",\n",
       "      \"vega-lib\": \"https://cdn.jsdelivr.net/npm//vega-lib?noext\",\n",
       "      \"vega-lite\": \"https://cdn.jsdelivr.net/npm//vega-lite@4.8.1?noext\",\n",
       "      \"vega-embed\": \"https://cdn.jsdelivr.net/npm//vega-embed@6?noext\",\n",
       "    };\n",
       "\n",
       "    function loadScript(lib) {\n",
       "      return new Promise(function(resolve, reject) {\n",
       "        var s = document.createElement('script');\n",
       "        s.src = paths[lib];\n",
       "        s.async = true;\n",
       "        s.onload = () => resolve(paths[lib]);\n",
       "        s.onerror = () => reject(`Error loading script: ${paths[lib]}`);\n",
       "        document.getElementsByTagName(\"head\")[0].appendChild(s);\n",
       "      });\n",
       "    }\n",
       "\n",
       "    function showError(err) {\n",
       "      outputDiv.innerHTML = `<div class=\"error\" style=\"color:red;\">${err}</div>`;\n",
       "      throw err;\n",
       "    }\n",
       "\n",
       "    function displayChart(vegaEmbed) {\n",
       "      vegaEmbed(outputDiv, spec, embedOpt)\n",
       "        .catch(err => showError(`Javascript Error: ${err.message}<br>This usually means there's a typo in your chart specification. See the javascript console for the full traceback.`));\n",
       "    }\n",
       "\n",
       "    if(typeof define === \"function\" && define.amd) {\n",
       "      requirejs.config({paths});\n",
       "      require([\"vega-embed\"], displayChart, err => showError(`Error loading script: ${err.message}`));\n",
       "    } else if (typeof vegaEmbed === \"function\") {\n",
       "      displayChart(vegaEmbed);\n",
       "    } else {\n",
       "      loadScript(\"vega\")\n",
       "        .then(() => loadScript(\"vega-lite\"))\n",
       "        .then(() => loadScript(\"vega-embed\"))\n",
       "        .catch(showError)\n",
       "        .then(() => displayChart(vegaEmbed));\n",
       "    }\n",
       "  })({\"config\": {\"view\": {\"continuousWidth\": 400, \"continuousHeight\": 300}}, \"data\": {\"name\": \"data-fb22bc5f439b0e71d8904af02159afb7\", \"format\": {\"feature\": \"data\", \"type\": \"topojson\"}}, \"mark\": \"geoshape\", \"encoding\": {\"color\": {\"type\": \"nominal\", \"field\": \"properties.name\", \"legend\": {\"columns\": 2}}, \"tooltip\": [{\"type\": \"nominal\", \"field\": \"properties.name\"}]}, \"projection\": {\"reflectY\": true, \"type\": \"identity\"}, \"width\": 300, \"$schema\": \"https://vega.github.io/schema/vega-lite/v4.8.1.json\", \"datasets\": {\"data-fb22bc5f439b0e71d8904af02159afb7\": {\"type\": \"Topology\", \"objects\": {\"data\": {\"geometries\": [{\"properties\": {\"name\": \"P1\"}, \"type\": \"Polygon\", \"arcs\": [[0, -4, 1]]}, {\"properties\": {\"name\": \"P2\"}, \"type\": \"Polygon\", \"arcs\": [[-7, 2, 3, 4]]}, {\"properties\": {\"name\": \"P3\"}, \"type\": \"Polygon\", \"arcs\": [[5, 6, 7]]}], \"type\": \"GeometryCollection\"}}, \"bbox\": [50.8, 72.1, 71.45, 90.8], \"arcs\": [[[60.05, 88.85], [60.3, 86.9]], [[61.9, 73.4], [51.85, 72.1], [50.8, 80.5], [57.95, 81.4], [57.5, 85.05], [59.05, 85.25], [58.85, 87.15], [60.05, 88.85]], [[63.7, 77.0], [63.0, 73.55], [61.9, 73.4]], [[61.9, 73.4], [60.3, 86.9]], [[60.3, 86.9], [64.15, 87.45], [64.85, 90.8], [66.35, 90.55], [65.75, 86.8], [64.5, 81.1]], [[65.75, 86.8], [70.5, 87.45], [71.45, 79.0], [69.85, 78.85], [70.3, 74.5], [64.15, 73.75], [63.7, 77.0]], [[63.7, 77.0], [64.5, 81.1]], [[64.5, 81.1], [66.45, 81.35], [65.75, 86.8]]]}}}, {\"mode\": \"vega-lite\"});\n",
       "</script>"
      ],
      "text/plain": [
       "alt.Chart(...)"
      ]
     },
     "execution_count": 10,
     "metadata": {},
     "output_type": "execute_result"
    }
   ],
   "source": [
    "topo.to_alt(color='properties.name:N')"
   ]
  },
  {
   "cell_type": "code",
   "execution_count": null,
   "metadata": {},
   "outputs": [],
   "source": [
    "import pandas\n",
    "import geopandas\n",
    "import topojson as tp\n",
    "from shapely.wkt import loads\n",
    "\n",
    "df = pandas.DataFrame({\n",
    "    \"name\": [\"P1\", \"P2\", \"P3\"],\n",
    "    \"geometry\": [\n",
    "        \"POLYGON ((60.05 88.85, 60.3 86.9, 61.9 73.4, 51.85 72.1, 50.8 80.5, 57.95 81.4, 57.5 85.05, 59.05 85.25, 58.85 87.15, 60.05 88.85))\",\n",
    "        \"POLYGON ((66.35 90.55, 65.75 86.8, 64.5 81.1, 63.7 77, 63 73.55, 61.9 73.4, 60.3 86.9, 64.15 87.45, 64.85 90.8, 66.35 90.55))\",\n",
    "        \"POLYGON ((65.75 86.8, 70.5 87.45, 71.45 79, 69.85 78.85, 70.3 74.5, 64.15 73.75, 63.7 77, 64.5 81.1, 66.45 81.35, 65.75 86.8))\"\n",
    "    ]\n",
    "})\n",
    "\n",
    "df['geometry'] = df['geometry'].apply(loads)\n",
    "gdf = geopandas.GeoDataFrame(df, geometry='geometry', crs='EPSG:27700')\n",
    "topo = tp.Topology(gdf, shared_coords=True)\n",
    "#topo = tp.Topology(gdf, prequantize=False)"
   ]
  },
  {
   "cell_type": "code",
   "execution_count": null,
   "metadata": {},
   "outputs": [],
   "source": [
    "topo.to_alt(color='properties.name:N')"
   ]
  },
  {
   "cell_type": "code",
   "execution_count": null,
   "metadata": {},
   "outputs": [],
   "source": [
    "topo.to_svg(separate=True)"
   ]
  },
  {
   "cell_type": "code",
   "execution_count": null,
   "metadata": {},
   "outputs": [],
   "source": [
    "c = Cut(data, options={'prequantize':False})\n",
    "c.to_svg(include_junctions=True, separate=False)"
   ]
  },
  {
   "cell_type": "code",
   "execution_count": null,
   "metadata": {},
   "outputs": [],
   "source": [
    "d = Dedup(data, options={'prequantize':False})"
   ]
  },
  {
   "cell_type": "code",
   "execution_count": null,
   "metadata": {},
   "outputs": [],
   "source": [
    "d.to_svg(include_junctions=True, separate=True)"
   ]
  },
  {
   "cell_type": "code",
   "execution_count": null,
   "metadata": {},
   "outputs": [],
   "source": [
    "from IPython.display import SVG, display\n",
    "from shapely.ops import linemerge\n",
    "\n",
    "def svg_split_view(geom):\n",
    "    svg_custom = geom._repr_svg_()\n",
    "    for c in ['green','blue', 'orange', 'red']:    \n",
    "        svg_custom = svg_custom.replace('stroke=\"#66cc99\"', f'stroke=\"{c}\"', 1)\n",
    "    display(SVG(svg_custom))\n",
    "    \n",
    "in_geoms = loads('MULTILINESTRING ((5 0, 4 -1, 4 0), (4 0, 4 1, 3 1, 3 0), (3 0, 2 1, 2 0), (1 0, 1 1))')\n",
    "svg_split_view(in_geoms) # 4 non shared arcs"
   ]
  },
  {
   "cell_type": "code",
   "execution_count": null,
   "metadata": {},
   "outputs": [],
   "source": [
    "import topojson as tp\n",
    "import geopandas as gpd\n",
    "import json\n",
    "\n",
    "# Load JSON geometry\n",
    "json_string = '{\"type\": \"FeatureCollection\", \"features\": [{\"id\": \"0\", \"type\": \"Feature\", \"properties\": {\"certainty\": 4}, \"geometry\": {\"type\": \"Polygon\", \"coordinates\": [[[556395.0, -2289375.0], [556485.0, -2289375.0], [556485.0, -2289735.0], [556455.0, -2289735.0], [556455.0, -2289705.0], [556395.0, -2289705.0], [556395.0, -2289735.0], [556335.0, -2289735.0], [556335.0, -2289705.0], [556365.0, -2289705.0], [556365.0, -2289675.0], [556395.0, -2289675.0], [556395.0, -2289615.0], [556365.0, -2289615.0], [556365.0, -2289555.0], [556335.0, -2289555.0], [556335.0, -2289465.0], [556365.0, -2289465.0], [556365.0, -2289435.0], [556395.0, -2289435.0], [556395.0, -2289375.0]]]}}, {\"id\": \"1\", \"type\": \"Feature\", \"properties\": {\"certainty\": 4}, \"geometry\": {\"type\": \"Polygon\", \"coordinates\": [[[556065.0, -2289075.0], [556155.0, -2289075.0], [556155.0, -2289135.0], [556125.0, -2289135.0], [556125.0, -2289195.0], [556095.0, -2289195.0], [556095.0, -2289225.0], [556065.0, -2289225.0], [556065.0, -2289375.0], [556095.0, -2289375.0], [556095.0, -2289465.0], [556125.0, -2289465.0], [556125.0, -2289525.0], [556155.0, -2289525.0], [556155.0, -2289615.0], [556125.0, -2289615.0], [556125.0, -2289645.0], [556155.0, -2289645.0], [556155.0, -2289675.0], [556125.0, -2289675.0], [556125.0, -2289735.0], [556155.0, -2289735.0], [556155.0, -2289765.0], [556185.0, -2289765.0], [556185.0, -2289795.0], [556215.0, -2289795.0], [556215.0, -2289825.0], [556245.0, -2289825.0], [556245.0, -2289855.0], [556305.0, -2289855.0], [556305.0, -2289825.0], [556335.0, -2289825.0], [556335.0, -2289795.0], [556365.0, -2289795.0], [556365.0, -2289825.0], [556395.0, -2289825.0], [556395.0, -2289855.0], [556455.0, -2289855.0], [556455.0, -2289825.0], [556485.0, -2289825.0], [556485.0, -2289885.0], [556455.0, -2289885.0], [556455.0, -2289915.0], [556425.0, -2289915.0], [556395.0, -2289915.0], [556395.0, -2289945.0], [556365.0, -2289945.0], [556305.0, -2289945.0], [556305.0, -2289975.0], [556275.0, -2289975.0], [556245.0, -2289975.0], [556245.0, -2290005.0], [556215.0, -2290005.0], [556155.0, -2290005.0], [556155.0, -2290035.0], [556125.0, -2290035.0], [556095.0, -2290035.0], [556095.0, -2290065.0], [556065.0, -2290065.0], [556035.0, -2290065.0], [556035.0, -2290095.0], [556005.0, -2290095.0], [556000.0, -2290095.0], [556000.0, -2289135.0], [556005.0, -2289135.0], [556035.0, -2289135.0], [556035.0, -2289105.0], [556065.0, -2289105.0], [556065.0, -2289075.0]]]}}, {\"id\": \"2\", \"type\": \"Feature\", \"properties\": {\"certainty\": 0}, \"geometry\": {\"type\": \"MultiPolygon\", \"coordinates\": [[[[556000.0, -2290095.0], [556005.0, -2290095.0], [556035.0, -2290095.0], [556035.0, -2290065.0], [556065.0, -2290065.0], [556095.0, -2290065.0], [556095.0, -2290035.0], [556125.0, -2290035.0], [556155.0, -2290035.0], [556155.0, -2290005.0], [556215.0, -2290005.0], [556245.0, -2290005.0], [556245.0, -2289975.0], [556275.0, -2289975.0], [556305.0, -2289975.0], [556305.0, -2289945.0], [556365.0, -2289945.0], [556395.0, -2289945.0], [556395.0, -2289915.0], [556425.0, -2289915.0], [556455.0, -2289915.0], [556455.0, -2289885.0], [556485.0, -2289885.0], [556485.0, -2290250.0], [556000.0, -2290250.0], [556000.0, -2290095.0]]], [[[556485.0, -2289000.0], [556485.0, -2289375.0], [556455.0, -2289375.0], [556395.0, -2289375.0], [556395.0, -2289435.0], [556365.0, -2289435.0], [556365.0, -2289465.0], [556335.0, -2289465.0], [556335.0, -2289555.0], [556365.0, -2289555.0], [556365.0, -2289615.0], [556395.0, -2289615.0], [556395.0, -2289675.0], [556365.0, -2289675.0], [556365.0, -2289705.0], [556335.0, -2289705.0], [556335.0, -2289735.0], [556395.0, -2289735.0], [556395.0, -2289705.0], [556455.0, -2289705.0], [556455.0, -2289735.0], [556485.0, -2289735.0], [556485.0, -2289825.0], [556455.0, -2289825.0], [556455.0, -2289855.0], [556395.0, -2289855.0], [556395.0, -2289825.0], [556365.0, -2289825.0], [556365.0, -2289795.0], [556335.0, -2289795.0], [556335.0, -2289825.0], [556305.0, -2289825.0], [556305.0, -2289855.0], [556245.0, -2289855.0], [556245.0, -2289825.0], [556215.0, -2289825.0], [556215.0, -2289795.0], [556185.0, -2289795.0], [556185.0, -2289765.0], [556155.0, -2289765.0], [556155.0, -2289735.0], [556125.0, -2289735.0], [556125.0, -2289675.0], [556155.0, -2289675.0], [556155.0, -2289645.0], [556125.0, -2289645.0], [556125.0, -2289615.0], [556155.0, -2289615.0], [556155.0, -2289525.0], [556125.0, -2289525.0], [556125.0, -2289465.0], [556095.0, -2289465.0], [556095.0, -2289375.0], [556065.0, -2289375.0], [556065.0, -2289225.0], [556095.0, -2289225.0], [556095.0, -2289195.0], [556125.0, -2289195.0], [556125.0, -2289135.0], [556155.0, -2289135.0], [556155.0, -2289075.0], [556065.0, -2289075.0], [556065.0, -2289105.0], [556035.0, -2289105.0], [556035.0, -2289135.0], [556005.0, -2289135.0], [556000.0, -2289135.0], [556000.0, -2289000.0], [556485.0, -2289000.0]]]]}}]}'\n",
    "json_data = json.loads(json_string)\n",
    "\n",
    "# Convert to GeoDataFrame\n",
    "gdf = gpd.GeoDataFrame.from_features(json_data[\"features\"])\n",
    "\n",
    "# Construct topology and simplify (with shared_coords=False)\n",
    "topo = tp.Topology(gdf, shared_coords=False, prequantize=False)\n",
    "simplified_gdf = topo.toposimplify(30).to_gdf() "
   ]
  },
  {
   "cell_type": "code",
   "execution_count": null,
   "metadata": {},
   "outputs": [],
   "source": [
    "simplified_gdf"
   ]
  },
  {
   "cell_type": "code",
   "execution_count": null,
   "metadata": {},
   "outputs": [],
   "source": [
    "topo"
   ]
  },
  {
   "cell_type": "code",
   "execution_count": null,
   "metadata": {},
   "outputs": [],
   "source": [
    "topo.toposimplify(30).to_alt(color='properties.certainty:Q')"
   ]
  },
  {
   "cell_type": "code",
   "execution_count": null,
   "metadata": {},
   "outputs": [],
   "source": [
    "out_geoms = linemerge(in_geoms)\n",
    "svg_split_view(out_geoms) # 3 out of 4 can be merged"
   ]
  },
  {
   "cell_type": "code",
   "execution_count": null,
   "metadata": {},
   "outputs": [],
   "source": [
    "import pandas\n",
    "import geopandas\n",
    "import topojson as tp\n",
    "from shapely.wkt import loads\n",
    "\n",
    "df = pandas.DataFrame({\n",
    "    \"name\": [\"P1\", \"P2\", \"P3\"],\n",
    "    \"geometry\": [\n",
    "        \"POLYGON ((60.05 88.85, 60.3 86.9, 61.9 73.4, 51.85 72.1, 50.8 80.5, 57.95 81.4, 57.5 85.05, 59.05 85.25, 58.85 87.15, 60.05 88.85))\",\n",
    "        \"POLYGON ((66.35 90.55, 65.75 86.8, 64.5 81.1, 63.7 77, 63 73.55, 61.9 73.4, 60.3 86.9, 64.15 87.45, 64.85 90.8, 66.35 90.55))\",\n",
    "        \"POLYGON ((65.75 86.8, 70.5 87.45, 71.45 79, 69.85 78.85, 70.3 74.5, 64.15 73.75, 63.7 77, 64.5 81.1, 66.45 81.35, 65.75 86.8))\"\n",
    "    ]\n",
    "})\n",
    "\n",
    "df['geometry'] = df['geometry'].apply(loads)\n",
    "gdf = geopandas.GeoDataFrame(df, geometry='geometry', crs='EPSG:27700')\n",
    "topo = tp.Topology(gdf, prequantize=False)"
   ]
  },
  {
   "cell_type": "code",
   "execution_count": null,
   "metadata": {},
   "outputs": [],
   "source": [
    "topo.to_gdf()"
   ]
  },
  {
   "cell_type": "code",
   "execution_count": null,
   "metadata": {},
   "outputs": [],
   "source": [
    "topo.to_alt(color='properties.name:N')"
   ]
  },
  {
   "cell_type": "code",
   "execution_count": null,
   "metadata": {},
   "outputs": [],
   "source": [
    "The issue is in the process when the remaining non-shared arcs are tried to be merged again. \n",
    "In this process are currently two options covered \n",
    "(1) the first and last non-shared arc can be merged and \n",
    "(2) all arcs can be merged. Until know this were the two situations \n",
    "\n",
    "It seems the assumption that this logic works for all cases has been proven wrong.\n",
    "Somehow need to find a better method to detect which segment-indices where merged"
   ]
  },
  {
   "cell_type": "code",
   "execution_count": null,
   "metadata": {},
   "outputs": [],
   "source": [
    "The shared segments of a linestring are collected from all geometries. \n",
    "The remaining non-shared segments of each linestring are then tried to be merged. These merged contigious \n",
    "segment replaces the"
   ]
  },
  {
   "cell_type": "code",
   "execution_count": null,
   "metadata": {},
   "outputs": [],
   "source": []
  },
  {
   "cell_type": "code",
   "execution_count": null,
   "metadata": {},
   "outputs": [],
   "source": [
    "import pandas\n",
    "import geopandas\n",
    "import topojson as tp\n",
    "from shapely.wkt import loads\n",
    "\n",
    "df = pandas.DataFrame({\n",
    "    \"name\": [\"P1\", \"P2\", \"P3\"],\n",
    "    \"geometry\": [\n",
    "        \"POLYGON ((60.05 88.85, 60.3 86.9, 61.9 73.4, 51.85 72.1, 50.8 80.5, 57.95 81.4, 57.5 85.05, 59.05 85.25, 58.85 87.15, 60.05 88.85))\",\n",
    "        \"POLYGON ((66.35 90.55, 65.75 86.8, 64.5 81.1, 63.7 77, 63 73.55, 61.9 73.4, 60.3 86.9, 64.15 87.45, 64.85 90.8, 66.35 90.55))\",\n",
    "        \"POLYGON ((65.75 86.8, 70.5 87.45, 71.45 79, 69.85 78.85, 70.3 74.5, 64.15 73.75, 63.7 77, 64.5 81.1, 66.45 81.35, 65.75 86.8))\"\n",
    "    ]\n",
    "})\n",
    "\n",
    "df['geometry'] = df['geometry'].apply(loads)\n",
    "gdf = geopandas.GeoDataFrame(df, geometry='geometry', crs='EPSG:27700')\n",
    "topo = Dedup(gdf, options={'prequantize':False})"
   ]
  },
  {
   "cell_type": "code",
   "execution_count": null,
   "metadata": {},
   "outputs": [],
   "source": [
    "topo"
   ]
  },
  {
   "cell_type": "code",
   "execution_count": null,
   "metadata": {},
   "outputs": [],
   "source": []
  },
  {
   "cell_type": "code",
   "execution_count": null,
   "metadata": {},
   "outputs": [],
   "source": [
    "import topojson as tp\n",
    "import geopandas as gpd\n",
    "\n",
    "# Read file\n",
    "gdf = gpd.read_file(r\"C:\\Users\\lilei\\Downloads\\polygons\\polygons.json\")\n",
    "\n",
    "# Construct topology and simplify\n",
    "topo = tp.Topology(gdf, prequantize=False)\n",
    "simplified_gdf = topo.toposimplify(30).to_gdf()"
   ]
  },
  {
   "cell_type": "code",
   "execution_count": null,
   "metadata": {},
   "outputs": [],
   "source": []
  }
 ],
 "metadata": {
  "kernelspec": {
   "display_name": "Python 3",
   "language": "python",
   "name": "python3"
  },
  "language_info": {
   "codemirror_mode": {
    "name": "ipython",
    "version": 3
   },
   "file_extension": ".py",
   "mimetype": "text/x-python",
   "name": "python",
   "nbconvert_exporter": "python",
   "pygments_lexer": "ipython3",
   "version": "3.7.6"
  }
 },
 "nbformat": 4,
 "nbformat_minor": 4
}
