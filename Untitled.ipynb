{
 "cells": [
  {
   "cell_type": "code",
   "execution_count": 2,
   "metadata": {},
   "outputs": [
    {
     "data": {
      "text/html": [
       "\n",
       "<div id=\"altair-viz-3b1b2cd61e564f738ef9081f5a0d78b6\"></div>\n",
       "<script type=\"text/javascript\">\n",
       "  (function(spec, embedOpt){\n",
       "    let outputDiv = document.currentScript.previousElementSibling;\n",
       "    if (outputDiv.id !== \"altair-viz-3b1b2cd61e564f738ef9081f5a0d78b6\") {\n",
       "      outputDiv = document.getElementById(\"altair-viz-3b1b2cd61e564f738ef9081f5a0d78b6\");\n",
       "    }\n",
       "    const paths = {\n",
       "      \"vega\": \"https://cdn.jsdelivr.net/npm//vega@5?noext\",\n",
       "      \"vega-lib\": \"https://cdn.jsdelivr.net/npm//vega-lib?noext\",\n",
       "      \"vega-lite\": \"https://cdn.jsdelivr.net/npm//vega-lite@4.8.1?noext\",\n",
       "      \"vega-embed\": \"https://cdn.jsdelivr.net/npm//vega-embed@6?noext\",\n",
       "    };\n",
       "\n",
       "    function loadScript(lib) {\n",
       "      return new Promise(function(resolve, reject) {\n",
       "        var s = document.createElement('script');\n",
       "        s.src = paths[lib];\n",
       "        s.async = true;\n",
       "        s.onload = () => resolve(paths[lib]);\n",
       "        s.onerror = () => reject(`Error loading script: ${paths[lib]}`);\n",
       "        document.getElementsByTagName(\"head\")[0].appendChild(s);\n",
       "      });\n",
       "    }\n",
       "\n",
       "    function showError(err) {\n",
       "      outputDiv.innerHTML = `<div class=\"error\" style=\"color:red;\">${err}</div>`;\n",
       "      throw err;\n",
       "    }\n",
       "\n",
       "    function displayChart(vegaEmbed) {\n",
       "      vegaEmbed(outputDiv, spec, embedOpt)\n",
       "        .catch(err => showError(`Javascript Error: ${err.message}<br>This usually means there's a typo in your chart specification. See the javascript console for the full traceback.`));\n",
       "    }\n",
       "\n",
       "    if(typeof define === \"function\" && define.amd) {\n",
       "      requirejs.config({paths});\n",
       "      require([\"vega-embed\"], displayChart, err => showError(`Error loading script: ${err.message}`));\n",
       "    } else if (typeof vegaEmbed === \"function\") {\n",
       "      displayChart(vegaEmbed);\n",
       "    } else {\n",
       "      loadScript(\"vega\")\n",
       "        .then(() => loadScript(\"vega-lite\"))\n",
       "        .then(() => loadScript(\"vega-embed\"))\n",
       "        .catch(showError)\n",
       "        .then(() => displayChart(vegaEmbed));\n",
       "    }\n",
       "  })({\"config\": {\"view\": {\"continuousWidth\": 400, \"continuousHeight\": 300}}, \"data\": {\"name\": \"data-ded9e650ec702f296c1982da2caad281\", \"format\": {\"mesh\": \"data\", \"type\": \"topojson\"}}, \"mark\": {\"type\": \"geoshape\", \"filled\": false}, \"projection\": {\"reflectY\": true, \"type\": \"identity\"}, \"width\": 300, \"$schema\": \"https://vega.github.io/schema/vega-lite/v4.8.1.json\", \"datasets\": {\"data-ded9e650ec702f296c1982da2caad281\": {\"type\": \"Topology\", \"objects\": {\"data\": {\"geometries\": [{\"type\": \"Polygon\", \"arcs\": [[-2, 0]]}, {\"type\": \"Polygon\", \"arcs\": [[1, 2]]}], \"type\": \"GeometryCollection\"}}, \"bbox\": [0.0, 0.0, 2.0, 1.0], \"transform\": {\"scale\": [2.000002000002e-06, 1.000001000001e-06], \"translate\": [0.0, 0.0]}, \"arcs\": [[[500000, 0], [-500000, 0], [0, 999999], [500000, 0]], [[500000, 0], [0, 999999]], [[500000, 999999], [499999, 0], [0, -999999], [-499999, 0]]]}}}, {\"mode\": \"vega-lite\"});\n",
       "</script>"
      ],
      "text/plain": [
       "alt.Chart(...)"
      ]
     },
     "execution_count": 2,
     "metadata": {},
     "output_type": "execute_result"
    }
   ],
   "source": [
    "from shapely.wkt import loads\n",
    "import topojson\n",
    "from topojson.core.extract import Extract\n",
    "from topojson.core.cut import Cut\n",
    "from topojson.core.dedup import Dedup\n",
    "\n",
    "# data = [\n",
    "#     {\"type\": \"LineString\", \"coordinates\": [(1,0),(2,0),(3,0),(4,0),(5,0)]},\n",
    "#     {\"type\": \"LineString\", \"coordinates\": [(5,0),(4,-1),(4,0),(4,1),(3,1),(3,0),(2,1),(2,0),(1,0),(1,1)]},\n",
    "# ]\n",
    "\n",
    "data = {\n",
    "    \"abcda\": {\n",
    "        \"type\": \"Polygon\",\n",
    "        \"coordinates\": [[[0, 0], [1, 0], [1, 1], [0, 1], [0, 0]]],\n",
    "    },  # rotated to BCDAB, cut BC-CDAB\n",
    "    \"befcb\": {\n",
    "        \"type\": \"Polygon\",\n",
    "        \"coordinates\": [[[1, 0], [2, 0], [2, 1], [1, 1], [1, 0]]],\n",
    "    },\n",
    "}\n",
    "\n",
    "\n",
    "\n",
    "# topojson.Topology(data, shared_coords=False)  # this works (in this case)\n",
    "topojson.Topology(data, shared_coords=True).to_alt()"
   ]
  },
  {
   "cell_type": "code",
   "execution_count": 3,
   "metadata": {},
   "outputs": [],
   "source": [
    "%matplotlib inline"
   ]
  },
  {
   "cell_type": "code",
   "execution_count": 13,
   "metadata": {},
   "outputs": [],
   "source": [
    "import geopandas\n",
    "from topojson.core.hashmap import Hashmap\n",
    "\n",
    "data = geopandas.read_file(geopandas.datasets.get_path(\"naturalearth_lowres\"))\n",
    "data = data[\n",
    "    (data.name == \"Botswana\")\n",
    "    | (data.name == \"South Africa\")\n",
    "    | (data.name == \"Zimbabwe\")\n",
    "    | (data.name == \"Mozambique\")\n",
    "    | (data.name == \"Zambia\")\n",
    "]\n",
    "\n",
    "# data = geopandas.read_file(geopandas.datasets.get_path(\"naturalearth_lowres\"))\n",
    "# data = data[\n",
    "#     (data.name == \"Togo\") | (data.name == \"Benin\") | (data.name == \"Burkina Faso\")\n",
    "# ]\n",
    "#topo = Hashmap(data)\n",
    "topo = topojson.Topology(data)"
   ]
  },
  {
   "cell_type": "code",
   "execution_count": 14,
   "metadata": {},
   "outputs": [
    {
     "data": {
      "text/plain": [
       "<matplotlib.axes._subplots.AxesSubplot at 0x24fd770ccc8>"
      ]
     },
     "execution_count": 14,
     "metadata": {},
     "output_type": "execute_result"
    },
    {
     "data": {
      "image/png": "[encoded data removed]",
      "text/plain": [
       "<Figure size 432x288 with 1 Axes>"
      ]
     },
     "metadata": {
      "needs_background": "light"
     },
     "output_type": "display_data"
    }
   ],
   "source": [
    "import json\n",
    "geopandas.GeoDataFrame().from_features(json.loads(topo.to_geojson())['features']).plot()"
   ]
  },
  {
   "cell_type": "code",
   "execution_count": 15,
   "metadata": {},
   "outputs": [
    {
     "data": {
      "text/plain": [
       "<matplotlib.axes._subplots.AxesSubplot at 0x24fd7754688>"
      ]
     },
     "execution_count": 15,
     "metadata": {},
     "output_type": "execute_result"
    },
    {
     "data": {
      "image/png": "[encoded data removed]",
      "text/plain": [
       "<Figure size 432x288 with 1 Axes>"
      ]
     },
     "metadata": {
      "needs_background": "light"
     },
     "output_type": "display_data"
    }
   ],
   "source": [
    "topo.to_gdf().plot()"
   ]
  },
  {
   "cell_type": "code",
   "execution_count": 16,
   "metadata": {},
   "outputs": [
    {
     "data": {
      "text/html": [
       "\n",
       "<div id=\"altair-viz-da213561796344f68d78e8933d5cde7c\"></div>\n",
       "<script type=\"text/javascript\">\n",
       "  (function(spec, embedOpt){\n",
       "    let outputDiv = document.currentScript.previousElementSibling;\n",
       "    if (outputDiv.id !== \"altair-viz-da213561796344f68d78e8933d5cde7c\") {\n",
       "      outputDiv = document.getElementById(\"altair-viz-da213561796344f68d78e8933d5cde7c\");\n",
       "    }\n",
       "    const paths = {\n",
       "      \"vega\": \"https://cdn.jsdelivr.net/npm//vega@5?noext\",\n",
       "      \"vega-lib\": \"https://cdn.jsdelivr.net/npm//vega-lib?noext\",\n",
       "      \"vega-lite\": \"https://cdn.jsdelivr.net/npm//vega-lite@4.8.1?noext\",\n",
       "      \"vega-embed\": \"https://cdn.jsdelivr.net/npm//vega-embed@6?noext\",\n",
       "    };\n",
       "\n",
       "    function loadScript(lib) {\n",
       "      return new Promise(function(resolve, reject) {\n",
       "        var s = document.createElement('script');\n",
       "        s.src = paths[lib];\n",
       "        s.async = true;\n",
       "        s.onload = () => resolve(paths[lib]);\n",
       "        s.onerror = () => reject(`Error loading script: ${paths[lib]}`);\n",
       "        document.getElementsByTagName(\"head\")[0].appendChild(s);\n",
       "      });\n",
       "    }\n",
       "\n",
       "    function showError(err) {\n",
       "      outputDiv.innerHTML = `<div class=\"error\" style=\"color:red;\">${err}</div>`;\n",
       "      throw err;\n",
       "    }\n",
       "\n",
       "    function displayChart(vegaEmbed) {\n",
       "      vegaEmbed(outputDiv, spec, embedOpt)\n",
       "        .catch(err => showError(`Javascript Error: ${err.message}<br>This usually means there's a typo in your chart specification. See the javascript console for the full traceback.`));\n",
       "    }\n",
       "\n",
       "    if(typeof define === \"function\" && define.amd) {\n",
       "      requirejs.config({paths});\n",
       "      require([\"vega-embed\"], displayChart, err => showError(`Error loading script: ${err.message}`));\n",
       "    } else if (typeof vegaEmbed === \"function\") {\n",
       "      displayChart(vegaEmbed);\n",
       "    } else {\n",
       "      loadScript(\"vega\")\n",
       "        .then(() => loadScript(\"vega-lite\"))\n",
       "        .then(() => loadScript(\"vega-embed\"))\n",
       "        .catch(showError)\n",
       "        .then(() => displayChart(vegaEmbed));\n",
       "    }\n",
       "  })({\"config\": {\"view\": {\"continuousWidth\": 400, \"continuousHeight\": 300}}, \"data\": {\"name\": \"data-e4fdaaa1ba119db35f7650622ecb3459\", \"format\": {\"feature\": \"data\", \"type\": \"topojson\"}}, \"mark\": \"geoshape\", \"encoding\": {\"color\": {\"type\": \"nominal\", \"field\": \"properties.name\", \"legend\": {\"columns\": 2}}, \"tooltip\": [{\"type\": \"nominal\", \"field\": \"properties.name\"}]}, \"projection\": {\"reflectY\": true, \"type\": \"identity\"}, \"width\": 300, \"$schema\": \"https://vega.github.io/schema/vega-lite/v4.8.1.json\", \"datasets\": {\"data-e4fdaaa1ba119db35f7650622ecb3459\": {\"type\": \"Topology\", \"objects\": {\"data\": {\"geometries\": [{\"properties\": {\"pop_est\": 54841552, \"continent\": \"Africa\", \"name\": \"South Africa\", \"iso_a3\": \"ZAF\", \"gdp_md_est\": 739100.0}, \"type\": \"Polygon\", \"arcs\": [[0, -6, -5, -15, 1, -13, 2], [3]]}, {\"properties\": {\"pop_est\": 13805084, \"continent\": \"Africa\", \"name\": \"Zimbabwe\", \"iso_a3\": \"ZWE\", \"gdp_md_est\": 28330.0}, \"type\": \"Polygon\", \"arcs\": [[4, -8, -10, -16]]}, {\"properties\": {\"pop_est\": 2214858, \"continent\": \"Africa\", \"name\": \"Botswana\", \"iso_a3\": \"BWA\", \"gdp_md_est\": 35900.0}, \"type\": \"Polygon\", \"arcs\": [[5, 6, -11, 7]]}, {\"properties\": {\"pop_est\": 15972000, \"continent\": \"Africa\", \"name\": \"Zambia\", \"iso_a3\": \"ZMB\", \"gdp_md_est\": 65170.0}, \"type\": \"Polygon\", \"arcs\": [[8, -17, 9, 10, 11]]}, {\"properties\": {\"pop_est\": 26573706, \"continent\": \"Africa\", \"name\": \"Mozambique\", \"iso_a3\": \"MOZ\", \"gdp_md_est\": 35010.0}, \"type\": \"Polygon\", \"arcs\": [[12, 13, 14, 15, 16, 17]]}], \"type\": \"GeometryCollection\"}}, \"bbox\": [16.344976840895242, -34.81916635512371, 40.775475294768995, -8.238256524288218], \"transform\": {\"scale\": [2.4430522884396637e-05, 2.6580936411771908e-05], \"translate\": [16.344976840895242, -34.81916635512371]}, \"arcs\": [[[0, 234847], [19608, 18606], [16165, -10300], [6900, -16086], [18364, -2741], [25737, -7114], [21990, 2747], [36536, 19237], [42, 138946]], [[634158, 337679], [-20656, 6890], [-11832, -2681], [-3865, -10955], [-11177, -14124], [383, -13008], [24429, -20392], [23957, 4062], [8334, 16707]], [[674777, 303863], [-10228, -27386], [-4835, -31258], [-10591, -16982], [-27932, -18998], [-8000, -5439], [-17347, -19111], [-11418, -19330], [-23212, -26955], [-46261, -38817], [-28890, -22569], [-30910, -17118], [-42781, -14596], [-20866, -1960], [-5282, -10444], [-24877, 5560], [-20262, -7160], [-44363, 7250], [-24799, -4588], [-16948, 1969], [-42216, -14851], [-34946, -5957], [-25287, -14219], [-18619, -904], [-17319, 13414], [-13834, 689], [-17628, 16795], [-1934, -5216], [-5440, 10111], [228, 22058], [-13298, 25211], [13210, 6853], [-1071, 28874], [-26804, 35210], [-20569, 31868], [-61, 101], [-29387, 48879], [19608, 18606], [16165, -10300], [6900, -16086], [18364, -2741], [25737, -7114], [21990, 2747], [36536, 19237], [42, 138946]], [[517111, 220593], [-17870, 11591], [-19130, -7674], [-22178, -14718], [-21828, -23824], [30705, -28936], [14646, 3739], [7526, 12020], [22813, 5875], [6959, 12275], [12556, 18298], [-14199, 11354]], [[607700, 472807], [-21757, 3760], [-13794, -4516], [-19805, 6373], [-16653, 410]], [[535691, 478834], [-57917, -27706], [-36751, -28086], [-13630, -25070], [-12307, -14132], [-22271, -3011], [-7196, -18001], [-4142, -11736], [-26176, -8760], [-33315, 1860], [-19553, 10537], [-17252, 4569], [-19968, -8719], [-10018, -18020], [-19384, -11317], [-20469, -16789], [-29319, -3838], [-9134, 13208], [3772, 22923], [-24269, 35747], [-11050, 5649]], [[145342, 378142], [-12, 109802], [40346, 1310], [1208, 134010], [30470, 1244], [63110, 13172], [15642, -15508], [26130, 14744], [12416, 83], [23075, 8477]], [[365086, 642665], [15757, -30078], [8236, -6711], [12870, -21770], [46323, -41324], [17529, -4046], [102, -13271], [12040, -23858], [31652, -5774], [26096, -16999]], [[589223, 996171], [17099, -9577], [16316, -6301], [26013, -6332], [23230, -11295], [19320, -16783], [10409, -31934], [-6973, -10195], [-8229, -30498], [7865, -31172], [-12880, -13095], [-12427, -34950], [21525, -9744]], [[570159, 726512], [-31003, -5150], [-23306, -14987], [-4977, -13043], [-14652, -2959], [-35598, -30940], [-22669, -24349], [-13821, -872], [-13296, 4333], [-45751, 4120]], [[365086, 642665], [-7359, 2811]], [[357727, 645476], [-306, 3122], [-16152, 8480], [-26544, 2166], [-33516, -8550], [-26712, 23500], [-27614, 30780], [1884, 119705], [85232, -475], [-3488, 12987], [6098, 14091], [-7194, 17645], [4656, 18245], [-4326, 11680], [14119, -946], [2348, -11694], [19184, 908], [25989, -3471], [13680, -17081], [32778, -5247], [25023, 11877], [9184, -19713], [31367, -5257], [15082, -16032], [16812, -20704], [31326, -311], [-3422, 40567], [-11234, -6841], [-28617, 14641], [-11059, 6694], [5068, 37762], [7271, 44542], [-9162, 16591], [11666, 24016], [10972, 4497], [54979, 6349], [16124, -3828]], [[674777, 303863], [-31046, 315]], [[643731, 304178], [-3515, 16630], [-6058, 16871]], [[634158, 337679], [-3495, 13508], [7294, 41942], [-10651, 26728], [-19606, 52950]], [[607700, 472807], [43126, 42701], [10794, 27132], [6183, 3423], [4624, 22148], [-6579, 11143], [1756, 28114], [7981, 26073], [-91, 47615], [-21261, 12089], [-19492, 2733], [-8822, 9309], [-18970, 7939], [-34142, -748], [-2648, 14034]], [[570159, 726512], [-3879, 26775], [124211, 31008]], [[690491, 784295], [23563, -18057], [11262, 3457], [16160, -9520], [2376, -15075], [-8611, -17491], [3029, -26520], [26709, -23240], [12495, 26104], [17717, 7922], [-3482, 48374], [-17146, 27208], [-14769, 12129], [-14210, -548], [-11460, 48906], [11460, 28592], [30798, 3042], [49188, -10601], [10686, 4756], [28495, 969], [14586, 11285], [24556, -617], [44757, 14609], [32566, 21812], [6622, -16867], [-1683, -37481], [5057, -33011], [1589, -58794], [7198, -18426], [-12207, -26881], [-15881, -26127], [-26062, -23330], [-37421, -14301], [-46140, -18259], [-46247, -40379], [-15750, -6869], [-28575, -26731], [-16865, -8698], [-3458, -26825], [19411, -28491], [8076, -22064], [509, -11255], [7232, 1881], [-1171, -36898], [-6637, -17477], [9647, -6441], [-6088, -15652], [-17110, -13384], [-33765, -12714], [-49226, -20363], [-17952, -13910], [3509, -15848], [10462, -2532], [-3513, -19801]]]}}}, {\"mode\": \"vega-lite\"});\n",
       "</script>"
      ],
      "text/plain": [
       "alt.Chart(...)"
      ]
     },
     "execution_count": 16,
     "metadata": {},
     "output_type": "execute_result"
    }
   ],
   "source": [
    "topo.to_alt(color='properties.name:N')"
   ]
  },
  {
   "cell_type": "code",
   "execution_count": null,
   "metadata": {},
   "outputs": [],
   "source": [
    "import pandas\n",
    "import geopandas\n",
    "import topojson as tp\n",
    "from shapely.wkt import loads\n",
    "\n",
    "df = pandas.DataFrame({\n",
    "    \"name\": [\"P1\", \"P2\", \"P3\"],\n",
    "    \"geometry\": [\n",
    "        \"POLYGON ((60.05 88.85, 60.3 86.9, 61.9 73.4, 51.85 72.1, 50.8 80.5, 57.95 81.4, 57.5 85.05, 59.05 85.25, 58.85 87.15, 60.05 88.85))\",\n",
    "        \"POLYGON ((66.35 90.55, 65.75 86.8, 64.5 81.1, 63.7 77, 63 73.55, 61.9 73.4, 60.3 86.9, 64.15 87.45, 64.85 90.8, 66.35 90.55))\",\n",
    "        \"POLYGON ((65.75 86.8, 70.5 87.45, 71.45 79, 69.85 78.85, 70.3 74.5, 64.15 73.75, 63.7 77, 64.5 81.1, 66.45 81.35, 65.75 86.8))\"\n",
    "    ]\n",
    "})\n",
    "\n",
    "df['geometry'] = df['geometry'].apply(loads)\n",
    "gdf = geopandas.GeoDataFrame(df, geometry='geometry', crs='EPSG:27700')\n",
    "topo = tp.Topology(gdf, shared_coords=True)\n",
    "#topo = tp.Topology(gdf, prequantize=False)"
   ]
  },
  {
   "cell_type": "code",
   "execution_count": null,
   "metadata": {},
   "outputs": [],
   "source": [
    "topo.to_alt(color='properties.name:N')"
   ]
  },
  {
   "cell_type": "code",
   "execution_count": null,
   "metadata": {},
   "outputs": [],
   "source": [
    "topo.to_svg(separate=True)"
   ]
  },
  {
   "cell_type": "code",
   "execution_count": null,
   "metadata": {},
   "outputs": [],
   "source": [
    "c = Cut(data, options={'prequantize':False})\n",
    "c.to_svg(include_junctions=True, separate=False)"
   ]
  },
  {
   "cell_type": "code",
   "execution_count": null,
   "metadata": {},
   "outputs": [],
   "source": [
    "d = Dedup(data, options={'prequantize':False})"
   ]
  },
  {
   "cell_type": "code",
   "execution_count": null,
   "metadata": {},
   "outputs": [],
   "source": [
    "d.to_svg(include_junctions=True, separate=True)"
   ]
  },
  {
   "cell_type": "code",
   "execution_count": null,
   "metadata": {},
   "outputs": [],
   "source": [
    "from IPython.display import SVG, display\n",
    "from shapely.ops import linemerge\n",
    "\n",
    "def svg_split_view(geom):\n",
    "    svg_custom = geom._repr_svg_()\n",
    "    for c in ['green','blue', 'orange', 'red']:    \n",
    "        svg_custom = svg_custom.replace('stroke=\"#66cc99\"', f'stroke=\"{c}\"', 1)\n",
    "    display(SVG(svg_custom))\n",
    "    \n",
    "in_geoms = loads('MULTILINESTRING ((5 0, 4 -1, 4 0), (4 0, 4 1, 3 1, 3 0), (3 0, 2 1, 2 0), (1 0, 1 1))')\n",
    "svg_split_view(in_geoms) # 4 non shared arcs"
   ]
  },
  {
   "cell_type": "code",
   "execution_count": null,
   "metadata": {},
   "outputs": [],
   "source": [
    "import topojson as tp\n",
    "import geopandas as gpd\n",
    "import json\n",
    "\n",
    "# Load JSON geometry\n",
    "json_string = '{\"type\": \"FeatureCollection\", \"features\": [{\"id\": \"0\", \"type\": \"Feature\", \"properties\": {\"certainty\": 4}, \"geometry\": {\"type\": \"Polygon\", \"coordinates\": [[[556395.0, -2289375.0], [556485.0, -2289375.0], [556485.0, -2289735.0], [556455.0, -2289735.0], [556455.0, -2289705.0], [556395.0, -2289705.0], [556395.0, -2289735.0], [556335.0, -2289735.0], [556335.0, -2289705.0], [556365.0, -2289705.0], [556365.0, -2289675.0], [556395.0, -2289675.0], [556395.0, -2289615.0], [556365.0, -2289615.0], [556365.0, -2289555.0], [556335.0, -2289555.0], [556335.0, -2289465.0], [556365.0, -2289465.0], [556365.0, -2289435.0], [556395.0, -2289435.0], [556395.0, -2289375.0]]]}}, {\"id\": \"1\", \"type\": \"Feature\", \"properties\": {\"certainty\": 4}, \"geometry\": {\"type\": \"Polygon\", \"coordinates\": [[[556065.0, -2289075.0], [556155.0, -2289075.0], [556155.0, -2289135.0], [556125.0, -2289135.0], [556125.0, -2289195.0], [556095.0, -2289195.0], [556095.0, -2289225.0], [556065.0, -2289225.0], [556065.0, -2289375.0], [556095.0, -2289375.0], [556095.0, -2289465.0], [556125.0, -2289465.0], [556125.0, -2289525.0], [556155.0, -2289525.0], [556155.0, -2289615.0], [556125.0, -2289615.0], [556125.0, -2289645.0], [556155.0, -2289645.0], [556155.0, -2289675.0], [556125.0, -2289675.0], [556125.0, -2289735.0], [556155.0, -2289735.0], [556155.0, -2289765.0], [556185.0, -2289765.0], [556185.0, -2289795.0], [556215.0, -2289795.0], [556215.0, -2289825.0], [556245.0, -2289825.0], [556245.0, -2289855.0], [556305.0, -2289855.0], [556305.0, -2289825.0], [556335.0, -2289825.0], [556335.0, -2289795.0], [556365.0, -2289795.0], [556365.0, -2289825.0], [556395.0, -2289825.0], [556395.0, -2289855.0], [556455.0, -2289855.0], [556455.0, -2289825.0], [556485.0, -2289825.0], [556485.0, -2289885.0], [556455.0, -2289885.0], [556455.0, -2289915.0], [556425.0, -2289915.0], [556395.0, -2289915.0], [556395.0, -2289945.0], [556365.0, -2289945.0], [556305.0, -2289945.0], [556305.0, -2289975.0], [556275.0, -2289975.0], [556245.0, -2289975.0], [556245.0, -2290005.0], [556215.0, -2290005.0], [556155.0, -2290005.0], [556155.0, -2290035.0], [556125.0, -2290035.0], [556095.0, -2290035.0], [556095.0, -2290065.0], [556065.0, -2290065.0], [556035.0, -2290065.0], [556035.0, -2290095.0], [556005.0, -2290095.0], [556000.0, -2290095.0], [556000.0, -2289135.0], [556005.0, -2289135.0], [556035.0, -2289135.0], [556035.0, -2289105.0], [556065.0, -2289105.0], [556065.0, -2289075.0]]]}}, {\"id\": \"2\", \"type\": \"Feature\", \"properties\": {\"certainty\": 0}, \"geometry\": {\"type\": \"MultiPolygon\", \"coordinates\": [[[[556000.0, -2290095.0], [556005.0, -2290095.0], [556035.0, -2290095.0], [556035.0, -2290065.0], [556065.0, -2290065.0], [556095.0, -2290065.0], [556095.0, -2290035.0], [556125.0, -2290035.0], [556155.0, -2290035.0], [556155.0, -2290005.0], [556215.0, -2290005.0], [556245.0, -2290005.0], [556245.0, -2289975.0], [556275.0, -2289975.0], [556305.0, -2289975.0], [556305.0, -2289945.0], [556365.0, -2289945.0], [556395.0, -2289945.0], [556395.0, -2289915.0], [556425.0, -2289915.0], [556455.0, -2289915.0], [556455.0, -2289885.0], [556485.0, -2289885.0], [556485.0, -2290250.0], [556000.0, -2290250.0], [556000.0, -2290095.0]]], [[[556485.0, -2289000.0], [556485.0, -2289375.0], [556455.0, -2289375.0], [556395.0, -2289375.0], [556395.0, -2289435.0], [556365.0, -2289435.0], [556365.0, -2289465.0], [556335.0, -2289465.0], [556335.0, -2289555.0], [556365.0, -2289555.0], [556365.0, -2289615.0], [556395.0, -2289615.0], [556395.0, -2289675.0], [556365.0, -2289675.0], [556365.0, -2289705.0], [556335.0, -2289705.0], [556335.0, -2289735.0], [556395.0, -2289735.0], [556395.0, -2289705.0], [556455.0, -2289705.0], [556455.0, -2289735.0], [556485.0, -2289735.0], [556485.0, -2289825.0], [556455.0, -2289825.0], [556455.0, -2289855.0], [556395.0, -2289855.0], [556395.0, -2289825.0], [556365.0, -2289825.0], [556365.0, -2289795.0], [556335.0, -2289795.0], [556335.0, -2289825.0], [556305.0, -2289825.0], [556305.0, -2289855.0], [556245.0, -2289855.0], [556245.0, -2289825.0], [556215.0, -2289825.0], [556215.0, -2289795.0], [556185.0, -2289795.0], [556185.0, -2289765.0], [556155.0, -2289765.0], [556155.0, -2289735.0], [556125.0, -2289735.0], [556125.0, -2289675.0], [556155.0, -2289675.0], [556155.0, -2289645.0], [556125.0, -2289645.0], [556125.0, -2289615.0], [556155.0, -2289615.0], [556155.0, -2289525.0], [556125.0, -2289525.0], [556125.0, -2289465.0], [556095.0, -2289465.0], [556095.0, -2289375.0], [556065.0, -2289375.0], [556065.0, -2289225.0], [556095.0, -2289225.0], [556095.0, -2289195.0], [556125.0, -2289195.0], [556125.0, -2289135.0], [556155.0, -2289135.0], [556155.0, -2289075.0], [556065.0, -2289075.0], [556065.0, -2289105.0], [556035.0, -2289105.0], [556035.0, -2289135.0], [556005.0, -2289135.0], [556000.0, -2289135.0], [556000.0, -2289000.0], [556485.0, -2289000.0]]]]}}]}'\n",
    "json_data = json.loads(json_string)\n",
    "\n",
    "# Convert to GeoDataFrame\n",
    "gdf = gpd.GeoDataFrame.from_features(json_data[\"features\"])\n",
    "\n",
    "# Construct topology and simplify (with shared_coords=False)\n",
    "topo = tp.Topology(gdf, shared_coords=False, prequantize=False)\n",
    "simplified_gdf = topo.toposimplify(30).to_gdf() "
   ]
  },
  {
   "cell_type": "code",
   "execution_count": null,
   "metadata": {},
   "outputs": [],
   "source": [
    "simplified_gdf"
   ]
  },
  {
   "cell_type": "code",
   "execution_count": null,
   "metadata": {},
   "outputs": [],
   "source": [
    "topo"
   ]
  },
  {
   "cell_type": "code",
   "execution_count": null,
   "metadata": {},
   "outputs": [],
   "source": [
    "topo.toposimplify(30).to_alt(color='properties.certainty:Q')"
   ]
  },
  {
   "cell_type": "code",
   "execution_count": null,
   "metadata": {},
   "outputs": [],
   "source": [
    "out_geoms = linemerge(in_geoms)\n",
    "svg_split_view(out_geoms) # 3 out of 4 can be merged"
   ]
  },
  {
   "cell_type": "code",
   "execution_count": null,
   "metadata": {},
   "outputs": [],
   "source": [
    "import pandas\n",
    "import geopandas\n",
    "import topojson as tp\n",
    "from shapely.wkt import loads\n",
    "\n",
    "df = pandas.DataFrame({\n",
    "    \"name\": [\"P1\", \"P2\", \"P3\"],\n",
    "    \"geometry\": [\n",
    "        \"POLYGON ((60.05 88.85, 60.3 86.9, 61.9 73.4, 51.85 72.1, 50.8 80.5, 57.95 81.4, 57.5 85.05, 59.05 85.25, 58.85 87.15, 60.05 88.85))\",\n",
    "        \"POLYGON ((66.35 90.55, 65.75 86.8, 64.5 81.1, 63.7 77, 63 73.55, 61.9 73.4, 60.3 86.9, 64.15 87.45, 64.85 90.8, 66.35 90.55))\",\n",
    "        \"POLYGON ((65.75 86.8, 70.5 87.45, 71.45 79, 69.85 78.85, 70.3 74.5, 64.15 73.75, 63.7 77, 64.5 81.1, 66.45 81.35, 65.75 86.8))\"\n",
    "    ]\n",
    "})\n",
    "\n",
    "df['geometry'] = df['geometry'].apply(loads)\n",
    "gdf = geopandas.GeoDataFrame(df, geometry='geometry', crs='EPSG:27700')\n",
    "topo = tp.Topology(gdf, prequantize=False)"
   ]
  },
  {
   "cell_type": "code",
   "execution_count": null,
   "metadata": {},
   "outputs": [],
   "source": [
    "topo.to_gdf()"
   ]
  },
  {
   "cell_type": "code",
   "execution_count": null,
   "metadata": {},
   "outputs": [],
   "source": [
    "topo.to_alt(color='properties.name:N')"
   ]
  },
  {
   "cell_type": "code",
   "execution_count": null,
   "metadata": {},
   "outputs": [],
   "source": [
    "The issue is in the process when the remaining non-shared arcs are tried to be merged again. \n",
    "In this process are currently two options covered \n",
    "(1) the first and last non-shared arc can be merged and \n",
    "(2) all arcs can be merged. Until know this were the two situations \n",
    "\n",
    "It seems the assumption that this logic works for all cases has been proven wrong.\n",
    "Somehow need to find a better method to detect which segment-indices where merged"
   ]
  },
  {
   "cell_type": "code",
   "execution_count": null,
   "metadata": {},
   "outputs": [],
   "source": [
    "The shared segments of a linestring are collected from all geometries. \n",
    "The remaining non-shared segments of each linestring are then tried to be merged. These merged contigious \n",
    "segment replaces the"
   ]
  },
  {
   "cell_type": "code",
   "execution_count": null,
   "metadata": {},
   "outputs": [],
   "source": []
  },
  {
   "cell_type": "code",
   "execution_count": null,
   "metadata": {},
   "outputs": [],
   "source": [
    "import pandas\n",
    "import geopandas\n",
    "import topojson as tp\n",
    "from shapely.wkt import loads\n",
    "\n",
    "df = pandas.DataFrame({\n",
    "    \"name\": [\"P1\", \"P2\", \"P3\"],\n",
    "    \"geometry\": [\n",
    "        \"POLYGON ((60.05 88.85, 60.3 86.9, 61.9 73.4, 51.85 72.1, 50.8 80.5, 57.95 81.4, 57.5 85.05, 59.05 85.25, 58.85 87.15, 60.05 88.85))\",\n",
    "        \"POLYGON ((66.35 90.55, 65.75 86.8, 64.5 81.1, 63.7 77, 63 73.55, 61.9 73.4, 60.3 86.9, 64.15 87.45, 64.85 90.8, 66.35 90.55))\",\n",
    "        \"POLYGON ((65.75 86.8, 70.5 87.45, 71.45 79, 69.85 78.85, 70.3 74.5, 64.15 73.75, 63.7 77, 64.5 81.1, 66.45 81.35, 65.75 86.8))\"\n",
    "    ]\n",
    "})\n",
    "\n",
    "df['geometry'] = df['geometry'].apply(loads)\n",
    "gdf = geopandas.GeoDataFrame(df, geometry='geometry', crs='EPSG:27700')\n",
    "topo = Dedup(gdf, options={'prequantize':False})"
   ]
  },
  {
   "cell_type": "code",
   "execution_count": null,
   "metadata": {},
   "outputs": [],
   "source": [
    "topo"
   ]
  },
  {
   "cell_type": "code",
   "execution_count": null,
   "metadata": {},
   "outputs": [],
   "source": []
  },
  {
   "cell_type": "code",
   "execution_count": null,
   "metadata": {},
   "outputs": [],
   "source": [
    "import topojson as tp\n",
    "import geopandas as gpd\n",
    "\n",
    "# Read file\n",
    "gdf = gpd.read_file(r\"C:\\Users\\lilei\\Downloads\\polygons\\polygons.json\")\n",
    "\n",
    "# Construct topology and simplify\n",
    "topo = tp.Topology(gdf, prequantize=False)\n",
    "simplified_gdf = topo.toposimplify(30).to_gdf()"
   ]
  },
  {
   "cell_type": "code",
   "execution_count": null,
   "metadata": {},
   "outputs": [],
   "source": []
  }
 ],
 "metadata": {
  "kernelspec": {
   "display_name": "Python 3",
   "language": "python",
   "name": "python3"
  },
  "language_info": {
   "codemirror_mode": {
    "name": "ipython",
    "version": 3
   },
   "file_extension": ".py",
   "mimetype": "text/x-python",
   "name": "python",
   "nbconvert_exporter": "python",
   "pygments_lexer": "ipython3",
   "version": "3.7.4"
  }
 },
 "nbformat": 4,
 "nbformat_minor": 4
}
