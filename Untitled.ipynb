{
 "cells": [
  {
   "cell_type": "code",
   "execution_count": 4,
   "metadata": {},
   "outputs": [
    {
     "data": {
      "text/html": [
       "\n",
       "<div id=\"altair-viz-96f19616fba14059b5e76ca06dcaa296\"></div>\n",
       "<script type=\"text/javascript\">\n",
       "  (function(spec, embedOpt){\n",
       "    let outputDiv = document.currentScript.previousElementSibling;\n",
       "    if (outputDiv.id !== \"altair-viz-96f19616fba14059b5e76ca06dcaa296\") {\n",
       "      outputDiv = document.getElementById(\"altair-viz-96f19616fba14059b5e76ca06dcaa296\");\n",
       "    }\n",
       "    const paths = {\n",
       "      \"vega\": \"https://cdn.jsdelivr.net/npm//vega@5?noext\",\n",
       "      \"vega-lib\": \"https://cdn.jsdelivr.net/npm//vega-lib?noext\",\n",
       "      \"vega-lite\": \"https://cdn.jsdelivr.net/npm//vega-lite@4.8.1?noext\",\n",
       "      \"vega-embed\": \"https://cdn.jsdelivr.net/npm//vega-embed@6?noext\",\n",
       "    };\n",
       "\n",
       "    function loadScript(lib) {\n",
       "      return new Promise(function(resolve, reject) {\n",
       "        var s = document.createElement('script');\n",
       "        s.src = paths[lib];\n",
       "        s.async = true;\n",
       "        s.onload = () => resolve(paths[lib]);\n",
       "        s.onerror = () => reject(`Error loading script: ${paths[lib]}`);\n",
       "        document.getElementsByTagName(\"head\")[0].appendChild(s);\n",
       "      });\n",
       "    }\n",
       "\n",
       "    function showError(err) {\n",
       "      outputDiv.innerHTML = `<div class=\"error\" style=\"color:red;\">${err}</div>`;\n",
       "      throw err;\n",
       "    }\n",
       "\n",
       "    function displayChart(vegaEmbed) {\n",
       "      vegaEmbed(outputDiv, spec, embedOpt)\n",
       "        .catch(err => showError(`Javascript Error: ${err.message}<br>This usually means there's a typo in your chart specification. See the javascript console for the full traceback.`));\n",
       "    }\n",
       "\n",
       "    if(typeof define === \"function\" && define.amd) {\n",
       "      requirejs.config({paths});\n",
       "      require([\"vega-embed\"], displayChart, err => showError(`Error loading script: ${err.message}`));\n",
       "    } else if (typeof vegaEmbed === \"function\") {\n",
       "      displayChart(vegaEmbed);\n",
       "    } else {\n",
       "      loadScript(\"vega\")\n",
       "        .then(() => loadScript(\"vega-lite\"))\n",
       "        .then(() => loadScript(\"vega-embed\"))\n",
       "        .catch(showError)\n",
       "        .then(() => displayChart(vegaEmbed));\n",
       "    }\n",
       "  })({\"config\": {\"view\": {\"continuousWidth\": 400, \"continuousHeight\": 300}}, \"data\": {\"name\": \"data-ded9e650ec702f296c1982da2caad281\", \"format\": {\"mesh\": \"data\", \"type\": \"topojson\"}}, \"mark\": {\"type\": \"geoshape\", \"filled\": false}, \"projection\": {\"reflectY\": true, \"type\": \"identity\"}, \"width\": 300, \"$schema\": \"https://vega.github.io/schema/vega-lite/v4.8.1.json\", \"datasets\": {\"data-ded9e650ec702f296c1982da2caad281\": {\"type\": \"Topology\", \"objects\": {\"data\": {\"geometries\": [{\"type\": \"Polygon\", \"arcs\": [[-2, 0]]}, {\"type\": \"Polygon\", \"arcs\": [[1, 2]]}], \"type\": \"GeometryCollection\"}}, \"bbox\": [0.0, 0.0, 2.0, 1.0], \"transform\": {\"scale\": [2.000002000002e-06, 1.000001000001e-06], \"translate\": [0.0, 0.0]}, \"arcs\": [[[500000, 0], [-500000, 0], [0, 999999], [500000, 0]], [[500000, 0], [0, 999999]], [[500000, 999999], [499999, 0], [0, -999999], [-499999, 0]]]}}}, {\"mode\": \"vega-lite\"});\n",
       "</script>"
      ],
      "text/plain": [
       "alt.Chart(...)"
      ]
     },
     "execution_count": 4,
     "metadata": {},
     "output_type": "execute_result"
    }
   ],
   "source": [
    "from shapely.wkt import loads\n",
    "import topojson\n",
    "from topojson.core.extract import Extract\n",
    "from topojson.core.cut import Cut\n",
    "from topojson.core.dedup import Dedup\n",
    "\n",
    "# data = [\n",
    "#     {\"type\": \"LineString\", \"coordinates\": [(1,0),(2,0),(3,0),(4,0),(5,0)]},\n",
    "#     {\"type\": \"LineString\", \"coordinates\": [(5,0),(4,-1),(4,0),(4,1),(3,1),(3,0),(2,1),(2,0),(1,0),(1,1)]},\n",
    "# ]\n",
    "\n",
    "data = {\n",
    "    \"abcda\": {\n",
    "        \"type\": \"Polygon\",\n",
    "        \"coordinates\": [[[0, 0], [1, 0], [1, 1], [0, 1], [0, 0]]],\n",
    "    },  # rotated to BCDAB, cut BC-CDAB\n",
    "    \"befcb\": {\n",
    "        \"type\": \"Polygon\",\n",
    "        \"coordinates\": [[[1, 0], [2, 0], [2, 1], [1, 1], [1, 0]]],\n",
    "    },\n",
    "}\n",
    "\n",
    "\n",
    "\n",
    "# topojson.Topology(data, shared_coords=False)  # this works (in this case)\n",
    "topojson.Topology(data, shared_coords=True).to_alt()"
   ]
  },
  {
   "cell_type": "code",
   "execution_count": 8,
   "metadata": {},
   "outputs": [],
   "source": [
    "import geopandas\n",
    "from topojson.core.hashmap import Hashmap\n",
    "\n",
    "# data = geopandas.read_file(geopandas.datasets.get_path(\"naturalearth_lowres\"))\n",
    "# data = data[\n",
    "#     (data.name == \"Botswana\")\n",
    "#     | (data.name == \"South Africa\")\n",
    "#     | (data.name == \"Zimbabwe\")\n",
    "#     | (data.name == \"Mozambique\")\n",
    "#     | (data.name == \"Zambia\")\n",
    "# ]\n",
    "\n",
    "data = geopandas.read_file(geopandas.datasets.get_path(\"naturalearth_lowres\"))\n",
    "data = data[\n",
    "    (data.name == \"Togo\") | (data.name == \"Benin\") | (data.name == \"Burkina Faso\")\n",
    "]\n",
    "#topo = Hashmap(data)\n",
    "topo = topojson.Topology(data)"
   ]
  },
  {
   "cell_type": "code",
   "execution_count": 10,
   "metadata": {},
   "outputs": [
    {
     "data": {
      "text/plain": [
       "Topology(\n",
       "{'arcs': [[[880723, 35917], [-89176, -12698]],\n",
       "          [[822755, 654305],\n",
       "           [36222, 31881],\n",
       "           [38680, 281],\n",
       "           [82280, -62637],\n",
       "           [-4205, -36162],\n",
       "           [24267, -64566],\n",
       "           [-21261, -43817],\n",
       "           [11369, -29277],\n",
       "           [-52342, -67382],\n",
       "           [-33238, -33366],\n",
       "           [-20341, -68655],\n",
       "           [2727, -69238],\n",
       "           [-6190, -175450],\n",
       "           [-89176, -12698]],\n",
       "          [[687348, 551684],\n",
       "           [-13728, -57311],\n",
       "           [32960, -32131],\n",
       "           [37470, -38119],\n",
       "           [4099, -53418],\n",
       "           [21735, -22426],\n",
       "           [-4913, -249970],\n",
       "           [26576, -75090]],\n",
       "          [[791547, 23219],\n",
       "           [-86874, -23219],\n",
       "           [-24083, 38220],\n",
       "           [-28761, 69050],\n",
       "           [-8570, 54138],\n",
       "           [23854, 98039],\n",
       "           [-27066, 39703],\n",
       "           [-10282, 85746],\n",
       "           [181, 79045],\n",
       "           [-45034, 56132],\n",
       "           [7940, 33934]],\n",
       "          [[822755, 654305],\n",
       "           [-23575, -32545],\n",
       "           [-52743, -10170],\n",
       "           [-21981, -47588],\n",
       "           [-37108, -12318]],\n",
       "          [[687348, 551684], [-94496, 2323]],\n",
       "          [[592852, 554007],\n",
       "           [-49905, 8670],\n",
       "           [-34839, -17568],\n",
       "           [-47669, 7933],\n",
       "           [-187431, -5129],\n",
       "           [-2534, -61755],\n",
       "           [14718, -81947],\n",
       "           [-73848, 28068],\n",
       "           [-50558, -4134],\n",
       "           [-37744, -27376],\n",
       "           [-48516, 22983],\n",
       "           [-18858, 35998],\n",
       "           [-48522, 23731],\n",
       "           [-7146, 63188],\n",
       "           [29427, 46137],\n",
       "           [-2492, 36868],\n",
       "           [85650, 90210],\n",
       "           [15835, 74646],\n",
       "           [29567, 26563],\n",
       "           [52180, -14675],\n",
       "           [45221, 22161],\n",
       "           [14676, 27961],\n",
       "           [83718, 48792],\n",
       "           [20586, 34024],\n",
       "           [100853, 45150],\n",
       "           [59401, 15493],\n",
       "           [26932, -20882],\n",
       "           [69181, 501],\n",
       "           [-8550, -52755],\n",
       "           [14489, -49579],\n",
       "           [60761, -71075],\n",
       "           [3351, -52672],\n",
       "           [124412, -24688],\n",
       "           [-2443, -74544]]],\n",
       " 'bbox': (-5.470564947929006,\n",
       "          5.928837388528876,\n",
       "          3.7971122575117136,\n",
       "          15.116157741755728),\n",
       " 'coordinates': [],\n",
       " 'objects': {'data': {'geometries': [{'arcs': [[0, -3, -5, 1]],\n",
       "                                      'properties': {'continent': 'Africa',\n",
       "                                                     'gdp_md_est': 24310.0,\n",
       "                                                     'iso_a3': 'BEN',\n",
       "                                                     'name': 'Benin',\n",
       "                                                     'pop_est': 11038805},\n",
       "                                      'type': 'Polygon'},\n",
       "                                     {'arcs': [[2, 3, -6]],\n",
       "                                      'properties': {'continent': 'Africa',\n",
       "                                                     'gdp_md_est': 11610.0,\n",
       "                                                     'iso_a3': 'TGO',\n",
       "                                                     'name': 'Togo',\n",
       "                                                     'pop_est': 7965055},\n",
       "                                      'type': 'Polygon'},\n",
       "                                     {'arcs': [[4, 5, 6]],\n",
       "                                      'properties': {'continent': 'Africa',\n",
       "                                                     'gdp_md_est': 32990.0,\n",
       "                                                     'iso_a3': 'BFA',\n",
       "                                                     'name': 'Burkina Faso',\n",
       "                                                     'pop_est': 20107509},\n",
       "                                      'type': 'Polygon'}],\n",
       "                      'type': 'GeometryCollection'}},\n",
       " 'transform': {'scale': [9.267686473127193e-06, 9.187329540556393e-06],\n",
       "               'translate': [-5.470564947929006, 5.928837388528876]},\n",
       " 'type': 'Topology'}\n",
       ")"
      ]
     },
     "execution_count": 10,
     "metadata": {},
     "output_type": "execute_result"
    }
   ],
   "source": [
    "topo"
   ]
  },
  {
   "cell_type": "code",
   "execution_count": 12,
   "metadata": {},
   "outputs": [
    {
     "name": "stdout",
     "output_type": "stream",
     "text": [
      "0 LINESTRING (2.691699685742995 6.25881870363704, 1.865244476815404 6.142157993131055)\n"
     ]
    },
    {
     "data": {
      "image/svg+xml": [
       "<svg height=\"100.0\" preserveAspectRatio=\"xMinYMin meet\" viewBox=\"1.8321862684583001 6.109099784773951 0.8925716256417981 0.18277712722019235\" width=\"100.0\" xmlns=\"http://www.w3.org/2000/svg\" xmlns:xlink=\"http://www.w3.org/1999/xlink\"><g transform=\"matrix(1,0,0,-1,0,12.400976696768094)\"><polyline fill=\"none\" opacity=\"0.8\" points=\"2.6916996857429947,6.25881870363704 1.8652444768154037,6.142157993131055\" stroke=\"#66cc99\" stroke-width=\"0.01785143251283596\"/></g></svg>"
      ],
      "text/plain": [
       "<IPython.core.display.SVG object>"
      ]
     },
     "metadata": {},
     "output_type": "display_data"
    },
    {
     "name": "stdout",
     "output_type": "stream",
     "text": [
      "1 LINESTRING (2.154470436268758 11.94015304356263, 2.490164575698371 12.23305429664511, 2.84863868847893 12.235635936246, 3.611183931487837 11.66016917581417, 3.572213309868337 11.32793696496857, 3.797112257511714 10.73474784585301, 3.600071975406557 10.33218662737445, 3.705436302919539 10.06320918041558, 3.220347057543115 9.444148541313806, 2.912307694549314 9.137604103863602, 2.723793683999434 8.506847994256702, 2.749066665011652 7.87073567152766, 2.691699685742995 6.25881870363704, 1.865244476815404 6.142157993131055)\n"
     ]
    },
    {
     "data": {
      "image/svg+xml": [
       "<svg height=\"100.0\" preserveAspectRatio=\"xMinYMin meet\" viewBox=\"1.621505359090806 5.898418875406457 2.4193460161455054 6.580956178564143\" width=\"100.0\" xmlns=\"http://www.w3.org/2000/svg\" xmlns:xlink=\"http://www.w3.org/1999/xlink\"><g transform=\"matrix(1,0,0,-1,0,18.377793929377056)\"><polyline fill=\"none\" opacity=\"0.8\" points=\"2.154470436268758,11.940153043562628 2.490164575698371,12.233054296645106 2.84863868847893,12.235635936246002 3.6111839314878367,11.660169175814172 3.572213309868337,11.327936964968572 3.7971122575117136,10.734747845853008 3.600071975406557,10.332186627374448 3.705436302919539,10.063209180415578 3.2203470575431155,9.444148541313806 2.9123076945493143,9.137604103863602 2.7237936839994337,8.506847994256702 2.749066665011652,7.87073567152766 2.6916996857429947,6.25881870363704 1.8652444768154037,6.142157993131055\" stroke=\"#66cc99\" stroke-width=\"0.13161912357128286\"/></g></svg>"
      ],
      "text/plain": [
       "<IPython.core.display.SVG object>"
      ]
     },
     "metadata": {},
     "output_type": "display_data"
    },
    {
     "name": "stdout",
     "output_type": "stream",
     "text": [
      "2 LINESTRING (0.8995608140020241 10.99734009878119, 0.7723340140989334 10.47080505548236, 1.077796960253206 10.17560697001474, 1.425057172401281 9.825395155258276, 1.46304541925463 9.334626385860833, 1.66447858474805 9.128591333584316, 1.618946441105575 6.832034568331435, 1.865244476815404 6.142157993131055)\n"
     ]
    },
    {
     "data": {
      "image/svg+xml": [
       "<svg height=\"100.0\" preserveAspectRatio=\"xMinYMin meet\" viewBox=\"0.578126729872928 5.947950708905049 1.4813250311684811 5.243596674102147\" width=\"100.0\" xmlns=\"http://www.w3.org/2000/svg\" xmlns:xlink=\"http://www.w3.org/1999/xlink\"><g transform=\"matrix(1,0,0,-1,0,17.139498091912245)\"><polyline fill=\"none\" opacity=\"0.8\" points=\"0.8995608140020241,10.99734009878119 0.7723340140989334,10.470805055482362 1.077796960253206,10.175606970014744 1.4250571724012815,9.825395155258276 1.4630454192546303,9.334626385860833 1.6644785847480499,9.128591333584316 1.6189464411055754,6.8320345683314345 1.8652444768154037,6.142157993131055\" stroke=\"#66cc99\" stroke-width=\"0.10487193348204293\"/></g></svg>"
      ],
      "text/plain": [
       "<IPython.core.display.SVG object>"
      ]
     },
     "metadata": {},
     "output_type": "display_data"
    },
    {
     "name": "stdout",
     "output_type": "stream",
     "text": [
      "3 LINESTRING (1.865244476815404 6.142157993131055, 1.060123482148953 5.928837388528876, 0.8369297888166303 6.279977123568941, 0.5703818581630191 6.914362228344361, 0.4909577850883187 7.411745875011002, 0.7120291782182946 8.312462475837611, 0.4611899761366347 8.677227020586322, 0.3658996238199403 9.465003779370869, 0.3675770750715763 10.19121624290415, -0.04978391755923361 10.70691942467466, 0.0238015130373963 11.0186822653039)\n"
     ]
    },
    {
     "data": {
      "image/svg+xml": [
       "<svg height=\"100.0\" preserveAspectRatio=\"xMinYMin meet\" viewBox=\"-0.2533777126302346 5.725243593457876 2.3222159845166397 5.497032466917027\" width=\"100.0\" xmlns=\"http://www.w3.org/2000/svg\" xmlns:xlink=\"http://www.w3.org/1999/xlink\"><g transform=\"matrix(1,0,0,-1,0,16.947519653832778)\"><polyline fill=\"none\" opacity=\"0.8\" points=\"1.8652444768154037,6.142157993131055 1.0601234821489527,5.928837388528876 0.8369297888166303,6.279977123568941 0.5703818581630191,6.914362228344361 0.49095778508831867,7.411745875011002 0.7120291782182946,8.312462475837611 0.4611899761366347,8.677227020586322 0.36589962381994035,9.46500377937087 0.36757707507157633,10.19121624290415 -0.049783917559233615,10.706919424674663 0.023801513037396305,11.018682265303902\" stroke=\"#66cc99\" stroke-width=\"0.10994064933834054\"/></g></svg>"
      ],
      "text/plain": [
       "<IPython.core.display.SVG object>"
      ]
     },
     "metadata": {},
     "output_type": "display_data"
    },
    {
     "name": "stdout",
     "output_type": "stream",
     "text": [
      "4 LINESTRING (2.154470436268758 11.94015304356263, 1.935984727664784 11.64115140366522, 1.447179140012636 11.54771626223776, 1.243466123646828 11.11050962406176, 0.8995608140020241 10.99734009878119)\n"
     ]
    },
    {
     "data": {
      "image/svg+xml": [
       "<svg height=\"100.0\" preserveAspectRatio=\"xMinYMin meet\" viewBox=\"0.8493644291113548 10.94714371389052 1.3553023920480722 1.0432057145627773\" width=\"100.0\" xmlns=\"http://www.w3.org/2000/svg\" xmlns:xlink=\"http://www.w3.org/1999/xlink\"><g transform=\"matrix(1,0,0,-1,0,22.93749314234382)\"><polyline fill=\"none\" opacity=\"0.8\" points=\"2.154470436268758,11.940153043562628 1.935984727664784,11.64115140366522 1.4471791400126364,11.54771626223776 1.2434661236468276,11.110509624061763 0.8995608140020241,10.99734009878119\" stroke=\"#66cc99\" stroke-width=\"0.027106047840961444\"/></g></svg>"
      ],
      "text/plain": [
       "<IPython.core.display.SVG object>"
      ]
     },
     "metadata": {},
     "output_type": "display_data"
    },
    {
     "name": "stdout",
     "output_type": "stream",
     "text": [
      "5 LINESTRING (0.8995608140020241 10.99734009878119, 0.0238015130373963 11.0186822653039)\n"
     ]
    },
    {
     "data": {
      "image/svg+xml": [
       "<svg height=\"100.0\" preserveAspectRatio=\"xMinYMin meet\" viewBox=\"-0.011228859001188807 10.962309726742605 0.9458200450417982 0.09140291059988215\" width=\"100.0\" xmlns=\"http://www.w3.org/2000/svg\" xmlns:xlink=\"http://www.w3.org/1999/xlink\"><g transform=\"matrix(1,0,0,-1,0,22.016022364085092)\"><polyline fill=\"none\" opacity=\"0.8\" points=\"0.8995608140020241,10.99734009878119 0.023801513037396305,11.018682265303902\" stroke=\"#66cc99\" stroke-width=\"0.018916400900835965\"/></g></svg>"
      ],
      "text/plain": [
       "<IPython.core.display.SVG object>"
      ]
     },
     "metadata": {},
     "output_type": "display_data"
    },
    {
     "name": "stdout",
     "output_type": "stream",
     "text": [
      "6 LINESTRING (0.0238015130373963 11.0186822653039, -0.438702380404016 11.09833641242053, -0.7615793094412941 10.93693340705203, -1.203360655928795 11.00981649229727, -2.940412399273497 10.96269467908375, -2.963896716796401 10.39533114330669, -2.827494907284915 9.642457049446717, -3.511895017952412 9.900327014991053, -3.980450710660777 9.862346594670393, -4.33025026890249 9.610834261168122, -4.779881345832729 9.821986655998728, -4.954651377342961 10.15271214479968, -5.404338060392039 10.37073666212662, -5.470564947929006 10.9512656411353, -5.197844738084292 11.37514146414795, -5.220939812775325 11.71385992964918, -4.427162466351981 12.54264892750277, -4.280408651050012 13.22844632838715, -4.00639096509906 13.47248936297295, -3.522803084931283 13.33766530196528, -3.103709034929998 13.54126571191355, -2.967696468250384 13.79815263319705, -2.191824292093121 14.24642081613988, -2.001039698357325 14.55901051642777, -1.066365714483029 14.97381844518389, -0.5158558702927998 15.11615774175573, -0.2662585381985387 14.92430792628983, 0.3748892796988743 14.92891077838965, 0.2956505603536366 14.4442332084776, 0.4299300696627766 13.98873459718635, 0.9930439674564582 13.33574515009131, 1.024099984827907 12.85183012853112, 2.177111394322607 12.62501333683386, 2.154470436268758 11.94015304356263)\n"
     ]
    },
    {
     "data": {
      "image/svg+xml": [
       "<svg height=\"100.0\" preserveAspectRatio=\"xMinYMin meet\" viewBox=\"-5.77647200161907 9.304927207478057 8.259490449631741 6.117137587967736\" width=\"100.0\" xmlns=\"http://www.w3.org/2000/svg\" xmlns:xlink=\"http://www.w3.org/1999/xlink\"><g transform=\"matrix(1,0,0,-1,0,24.72699200292385)\"><polyline fill=\"none\" opacity=\"0.8\" points=\"0.023801513037396305,11.018682265303902 -0.438702380404016,11.098336412420526 -0.7615793094412941,10.936933407052031 -1.2033606559287948,11.009816492297265 -2.940412399273497,10.96269467908375 -2.9638967167964014,10.395331143306692 -2.8274949072849154,9.642457049446717 -3.5118950179524124,9.900327014991053 -3.980450710660777,9.862346594670393 -4.33025026890249,9.610834261168122 -4.779881345832729,9.821986655998728 -4.9546513773429615,10.152712144799679 -5.404338060392039,10.370736662126621 -5.470564947929006,10.951265641135299 -5.197844738084292,11.37514146414795 -5.220939812775325,11.713859929649182 -4.427162466351981,12.542648927502775 -4.280408651050012,13.228446328387147 -4.00639096509906,13.472489362972947 -3.522803084931283,13.33766530196528 -3.1037090349299983,13.541265711913553 -2.967696468250384,13.798152633197049 -2.1918242920931212,14.246420816139876 -2.001039698357325,14.559010516427767 -1.0663657144830285,14.97381844518389 -0.5158558702927998,15.116157741755728 -0.26625853819853873,14.92430792628983 0.3748892796988743,14.92891077838965 0.29565056035363657,14.444233208477597 0.4299300696627766,13.988734597186351 0.9930439674564582,13.335745150091306 1.0240999848279069,12.85183012853112 2.1771113943226075,12.625013336833863 2.154470436268758,11.940153043562628\" stroke=\"#66cc99\" stroke-width=\"0.16518980899263483\"/></g></svg>"
      ],
      "text/plain": [
       "<IPython.core.display.SVG object>"
      ]
     },
     "metadata": {},
     "output_type": "display_data"
    }
   ],
   "source": [
    "topo.to_svg(separate=True)"
   ]
  },
  {
   "cell_type": "code",
   "execution_count": 19,
   "metadata": {},
   "outputs": [],
   "source": [
    "import pandas\n",
    "import geopandas\n",
    "import topojson as tp\n",
    "from shapely.wkt import loads\n",
    "\n",
    "df = pandas.DataFrame({\n",
    "    \"name\": [\"P1\", \"P2\", \"P3\"],\n",
    "    \"geometry\": [\n",
    "        \"POLYGON ((60.05 88.85, 60.3 86.9, 61.9 73.4, 51.85 72.1, 50.8 80.5, 57.95 81.4, 57.5 85.05, 59.05 85.25, 58.85 87.15, 60.05 88.85))\",\n",
    "        \"POLYGON ((66.35 90.55, 65.75 86.8, 64.5 81.1, 63.7 77, 63 73.55, 61.9 73.4, 60.3 86.9, 64.15 87.45, 64.85 90.8, 66.35 90.55))\",\n",
    "        \"POLYGON ((65.75 86.8, 70.5 87.45, 71.45 79, 69.85 78.85, 70.3 74.5, 64.15 73.75, 63.7 77, 64.5 81.1, 66.45 81.35, 65.75 86.8))\"\n",
    "    ]\n",
    "})\n",
    "\n",
    "df['geometry'] = df['geometry'].apply(loads)\n",
    "gdf = geopandas.GeoDataFrame(df, geometry='geometry', crs='EPSG:27700')\n",
    "topo = tp.Topology(gdf, shared_coords=True)\n",
    "#topo = tp.Topology(gdf, prequantize=False)"
   ]
  },
  {
   "cell_type": "code",
   "execution_count": 20,
   "metadata": {},
   "outputs": [
    {
     "data": {
      "text/html": [
       "\n",
       "<div id=\"altair-viz-ef7ac57a9df244fc99a36020e825864b\"></div>\n",
       "<script type=\"text/javascript\">\n",
       "  (function(spec, embedOpt){\n",
       "    let outputDiv = document.currentScript.previousElementSibling;\n",
       "    if (outputDiv.id !== \"altair-viz-ef7ac57a9df244fc99a36020e825864b\") {\n",
       "      outputDiv = document.getElementById(\"altair-viz-ef7ac57a9df244fc99a36020e825864b\");\n",
       "    }\n",
       "    const paths = {\n",
       "      \"vega\": \"https://cdn.jsdelivr.net/npm//vega@5?noext\",\n",
       "      \"vega-lib\": \"https://cdn.jsdelivr.net/npm//vega-lib?noext\",\n",
       "      \"vega-lite\": \"https://cdn.jsdelivr.net/npm//vega-lite@4.8.1?noext\",\n",
       "      \"vega-embed\": \"https://cdn.jsdelivr.net/npm//vega-embed@6?noext\",\n",
       "    };\n",
       "\n",
       "    function loadScript(lib) {\n",
       "      return new Promise(function(resolve, reject) {\n",
       "        var s = document.createElement('script');\n",
       "        s.src = paths[lib];\n",
       "        s.async = true;\n",
       "        s.onload = () => resolve(paths[lib]);\n",
       "        s.onerror = () => reject(`Error loading script: ${paths[lib]}`);\n",
       "        document.getElementsByTagName(\"head\")[0].appendChild(s);\n",
       "      });\n",
       "    }\n",
       "\n",
       "    function showError(err) {\n",
       "      outputDiv.innerHTML = `<div class=\"error\" style=\"color:red;\">${err}</div>`;\n",
       "      throw err;\n",
       "    }\n",
       "\n",
       "    function displayChart(vegaEmbed) {\n",
       "      vegaEmbed(outputDiv, spec, embedOpt)\n",
       "        .catch(err => showError(`Javascript Error: ${err.message}<br>This usually means there's a typo in your chart specification. See the javascript console for the full traceback.`));\n",
       "    }\n",
       "\n",
       "    if(typeof define === \"function\" && define.amd) {\n",
       "      requirejs.config({paths});\n",
       "      require([\"vega-embed\"], displayChart, err => showError(`Error loading script: ${err.message}`));\n",
       "    } else if (typeof vegaEmbed === \"function\") {\n",
       "      displayChart(vegaEmbed);\n",
       "    } else {\n",
       "      loadScript(\"vega\")\n",
       "        .then(() => loadScript(\"vega-lite\"))\n",
       "        .then(() => loadScript(\"vega-embed\"))\n",
       "        .catch(showError)\n",
       "        .then(() => displayChart(vegaEmbed));\n",
       "    }\n",
       "  })({\"config\": {\"view\": {\"continuousWidth\": 400, \"continuousHeight\": 300}}, \"data\": {\"name\": \"data-39eac94c17de9e71257464246046ce6d\", \"format\": {\"feature\": \"data\", \"type\": \"topojson\"}}, \"mark\": \"geoshape\", \"encoding\": {\"color\": {\"type\": \"nominal\", \"field\": \"properties.name\", \"legend\": {\"columns\": 2}}, \"tooltip\": [{\"type\": \"nominal\", \"field\": \"properties.name\"}]}, \"projection\": {\"reflectY\": true, \"type\": \"identity\"}, \"width\": 300, \"$schema\": \"https://vega.github.io/schema/vega-lite/v4.8.1.json\", \"datasets\": {\"data-39eac94c17de9e71257464246046ce6d\": {\"type\": \"Topology\", \"objects\": {\"data\": {\"geometries\": [{\"properties\": {\"name\": \"P1\"}, \"type\": \"Polygon\", \"arcs\": [[0, -4, 1]]}, {\"properties\": {\"name\": \"P2\"}, \"type\": \"Polygon\", \"arcs\": [[-7, 2, 3, 4]]}, {\"properties\": {\"name\": \"P3\"}, \"type\": \"Polygon\", \"arcs\": [[5, 6, 7]]}], \"type\": \"GeometryCollection\"}}, \"bbox\": [50.8, 72.1, 71.45, 90.8], \"transform\": {\"scale\": [2.0650020650020655e-05, 1.8700018700018704e-05], \"translate\": [50.8, 72.1]}, \"arcs\": [[[447941, 895721], [12107, -104278]], [[537530, 69519], [-486683, -69519], [-50847, 449197], [346247, 48129], [-21792, 195187], [75060, 10695], [-9685, 101604], [58111, 90909]], [[624697, 262032], [-33899, -184492], [-53268, -8021]], [[537530, 69519], [-77482, 721924]], [[460048, 791443], [186440, 29412], [33899, 179144], [72639, -13369], [-29056, -200535], [-60532, -304812]], [[723970, 786095], [230024, 34760], [46005, -451871], [-77482, -8022], [21792, -232620], [-297821, -40107], [-21791, 173797]], [[624697, 262032], [38741, 219251]], [[663438, 481283], [94430, 13369], [-33898, 291443]]]}}}, {\"mode\": \"vega-lite\"});\n",
       "</script>"
      ],
      "text/plain": [
       "alt.Chart(...)"
      ]
     },
     "execution_count": 20,
     "metadata": {},
     "output_type": "execute_result"
    }
   ],
   "source": [
    "topo.to_alt(color='properties.name:N')"
   ]
  },
  {
   "cell_type": "code",
   "execution_count": 22,
   "metadata": {},
   "outputs": [
    {
     "name": "stdout",
     "output_type": "stream",
     "text": [
      "0 LINESTRING (60.0499908999909 88.84999944999944, 60.3000007000007 86.89999889999889)\n"
     ]
    },
    {
     "data": {
      "image/svg+xml": [
       "<svg height=\"100.0\" preserveAspectRatio=\"xMinYMin meet\" viewBox=\"59.97199087799088 86.82199887799887 0.4060098440098372 2.106000594000605\" width=\"100.0\" xmlns=\"http://www.w3.org/2000/svg\" xmlns:xlink=\"http://www.w3.org/1999/xlink\"><g transform=\"matrix(1,0,0,-1,0,175.74999834999835)\"><polyline fill=\"none\" opacity=\"0.8\" points=\"60.0499908999909,88.84999944999944 60.3000007000007,86.89999889999889\" stroke=\"#66cc99\" stroke-width=\"0.042120011880012104\"/></g></svg>"
      ],
      "text/plain": [
       "<IPython.core.display.SVG object>"
      ]
     },
     "metadata": {},
     "output_type": "display_data"
    },
    {
     "name": "stdout",
     "output_type": "stream",
     "text": [
      "1 LINESTRING (61.9000056000056 73.40000660000659, 51.8499915999916 72.09999999999999, 50.8 80.4999922999923, 57.9500077000077 81.40000550000549, 57.50000245000245 85.05000605000605, 59.04999299999299 85.25000275000275, 58.84999754999755 87.14999944999944, 60.0499908999909 88.84999944999944)\n"
     ]
    },
    {
     "data": {
      "image/svg+xml": [
       "<svg height=\"100.0\" preserveAspectRatio=\"xMinYMin meet\" viewBox=\"50.13000002200002 71.43000002200002 12.44000555600556 18.089999405999407\" width=\"100.0\" xmlns=\"http://www.w3.org/2000/svg\" xmlns:xlink=\"http://www.w3.org/1999/xlink\"><g transform=\"matrix(1,0,0,-1,0,160.94999944999944)\"><polyline fill=\"none\" opacity=\"0.8\" points=\"61.9000056000056,73.40000660000659 51.8499915999916,72.1 50.8,80.4999922999923 57.9500077000077,81.40000550000549 57.50000245000245,85.05000605000605 59.049992999992995,85.25000275000275 58.84999754999755,87.14999944999944 60.0499908999909,88.84999944999944\" stroke=\"#66cc99\" stroke-width=\"0.36179998811998815\"/></g></svg>"
      ],
      "text/plain": [
       "<IPython.core.display.SVG object>"
      ]
     },
     "metadata": {},
     "output_type": "display_data"
    },
    {
     "name": "stdout",
     "output_type": "stream",
     "text": [
      "2 LINESTRING (63.70000595000595 77.0000033000033, 62.9999908999909 73.54999944999945, 61.9000056000056 73.40000660000659)\n"
     ]
    },
    {
     "data": {
      "image/svg+xml": [
       "<svg height=\"100.0\" preserveAspectRatio=\"xMinYMin meet\" viewBox=\"61.75600573200573 73.25600673200672 2.0880000860000862 3.887996435996442\" width=\"100.0\" xmlns=\"http://www.w3.org/2000/svg\" xmlns:xlink=\"http://www.w3.org/1999/xlink\"><g transform=\"matrix(1,0,0,-1,0,150.40000990000988)\"><polyline fill=\"none\" opacity=\"0.8\" points=\"63.70000595000595,77.0000033000033 62.9999908999909,73.54999944999945 61.9000056000056,73.40000660000659\" stroke=\"#66cc99\" stroke-width=\"0.07775992871992883\"/></g></svg>"
      ],
      "text/plain": [
       "<IPython.core.display.SVG object>"
      ]
     },
     "metadata": {},
     "output_type": "display_data"
    },
    {
     "name": "stdout",
     "output_type": "stream",
     "text": [
      "3 LINESTRING (61.9000056000056 73.40000660000659, 60.3000007000007 86.89999889999889)\n"
     ]
    },
    {
     "data": {
      "image/svg+xml": [
       "<svg height=\"100.0\" preserveAspectRatio=\"xMinYMin meet\" viewBox=\"59.76000100800101 72.8600069080069 2.6800042840042764 14.579991683991693\" width=\"100.0\" xmlns=\"http://www.w3.org/2000/svg\" xmlns:xlink=\"http://www.w3.org/1999/xlink\"><g transform=\"matrix(1,0,0,-1,0,160.30000550000548)\"><polyline fill=\"none\" opacity=\"0.8\" points=\"61.9000056000056,73.40000660000659 60.3000007000007,86.89999889999889\" stroke=\"#66cc99\" stroke-width=\"0.2915998336798339\"/></g></svg>"
      ],
      "text/plain": [
       "<IPython.core.display.SVG object>"
      ]
     },
     "metadata": {},
     "output_type": "display_data"
    },
    {
     "name": "stdout",
     "output_type": "stream",
     "text": [
      "4 LINESTRING (60.3000007000007 86.89999889999889, 64.14999054999055 87.45000385000385, 64.8500056000056 90.8, 66.35000245000245 90.54999944999945, 65.74999544999545 86.7999911999912, 64.5000084000084 81.10000110000109)\n"
     ]
    },
    {
     "data": {
      "image/svg+xml": [
       "<svg height=\"100.0\" preserveAspectRatio=\"xMinYMin meet\" viewBox=\"59.91200074400074 80.71200114400114 6.826001662001666 10.47599881199882\" width=\"100.0\" xmlns=\"http://www.w3.org/2000/svg\" xmlns:xlink=\"http://www.w3.org/1999/xlink\"><g transform=\"matrix(1,0,0,-1,0,171.90000110000108)\"><polyline fill=\"none\" opacity=\"0.8\" points=\"60.3000007000007,86.89999889999889 64.14999054999055,87.45000385000385 64.8500056000056,90.8 66.35000245000245,90.54999944999945 65.74999544999545,86.7999911999912 64.5000084000084,81.1000011000011\" stroke=\"#66cc99\" stroke-width=\"0.20951997623997642\"/></g></svg>"
      ],
      "text/plain": [
       "<IPython.core.display.SVG object>"
      ]
     },
     "metadata": {},
     "output_type": "display_data"
    },
    {
     "name": "stdout",
     "output_type": "stream",
     "text": [
      "5 LINESTRING (65.74999544999545 86.7999911999912, 70.4999957999958 87.45000385000385, 71.45 79.0000077000077, 69.8499950999951 78.84999614999614, 70.30000035000035 74.4999977999978, 64.14999054999055 73.74999614999615, 63.70000595000595 77.0000033000033)\n"
     ]
    },
    {
     "data": {
      "image/svg+xml": [
       "<svg height=\"100.0\" preserveAspectRatio=\"xMinYMin meet\" viewBox=\"63.15200564200564 73.20199584199584 8.845994665994674 14.796008316008326\" width=\"100.0\" xmlns=\"http://www.w3.org/2000/svg\" xmlns:xlink=\"http://www.w3.org/1999/xlink\"><g transform=\"matrix(1,0,0,-1,0,161.2)\"><polyline fill=\"none\" opacity=\"0.8\" points=\"65.74999544999545,86.7999911999912 70.4999957999958,87.45000385000385 71.45,79.0000077000077 69.8499950999951,78.84999614999614 70.30000035000035,74.4999977999978 64.14999054999055,73.74999614999615 63.70000595000595,77.0000033000033\" stroke=\"#66cc99\" stroke-width=\"0.2959201663201665\"/></g></svg>"
      ],
      "text/plain": [
       "<IPython.core.display.SVG object>"
      ]
     },
     "metadata": {},
     "output_type": "display_data"
    },
    {
     "name": "stdout",
     "output_type": "stream",
     "text": [
      "6 LINESTRING (63.70000595000595 77.0000033000033, 64.5000084000084 81.10000110000109)\n"
     ]
    },
    {
     "data": {
      "image/svg+xml": [
       "<svg height=\"100.0\" preserveAspectRatio=\"xMinYMin meet\" viewBox=\"63.53600603800604 76.83600338800339 1.128002274002263 4.427997623997612\" width=\"100.0\" xmlns=\"http://www.w3.org/2000/svg\" xmlns:xlink=\"http://www.w3.org/1999/xlink\"><g transform=\"matrix(1,0,0,-1,0,158.1000044000044)\"><polyline fill=\"none\" opacity=\"0.8\" points=\"63.70000595000595,77.0000033000033 64.5000084000084,81.1000011000011\" stroke=\"#66cc99\" stroke-width=\"0.08855995247995224\"/></g></svg>"
      ],
      "text/plain": [
       "<IPython.core.display.SVG object>"
      ]
     },
     "metadata": {},
     "output_type": "display_data"
    },
    {
     "name": "stdout",
     "output_type": "stream",
     "text": [
      "7 LINESTRING (64.5000084000084 81.10000110000109, 66.44998984998985 81.35000165000164, 65.74999544999545 86.7999911999912)\n"
     ]
    },
    {
     "data": {
      "image/svg+xml": [
       "<svg height=\"100.0\" preserveAspectRatio=\"xMinYMin meet\" viewBox=\"64.27200879600879 80.87200149600149 2.4059806579806633 6.155989307989316\" width=\"100.0\" xmlns=\"http://www.w3.org/2000/svg\" xmlns:xlink=\"http://www.w3.org/1999/xlink\"><g transform=\"matrix(1,0,0,-1,0,167.89999229999228)\"><polyline fill=\"none\" opacity=\"0.8\" points=\"64.5000084000084,81.1000011000011 66.44998984998985,81.35000165000164 65.74999544999545,86.7999911999912\" stroke=\"#66cc99\" stroke-width=\"0.12311978615978632\"/></g></svg>"
      ],
      "text/plain": [
       "<IPython.core.display.SVG object>"
      ]
     },
     "metadata": {},
     "output_type": "display_data"
    }
   ],
   "source": [
    "topo.to_svg(separate=True)"
   ]
  },
  {
   "cell_type": "code",
   "execution_count": null,
   "metadata": {},
   "outputs": [],
   "source": [
    "c = Cut(data, options={'prequantize':False})\n",
    "c.to_svg(include_junctions=True, separate=False)"
   ]
  },
  {
   "cell_type": "code",
   "execution_count": null,
   "metadata": {},
   "outputs": [],
   "source": [
    "d = Dedup(data, options={'prequantize':False})"
   ]
  },
  {
   "cell_type": "code",
   "execution_count": null,
   "metadata": {},
   "outputs": [],
   "source": [
    "d.to_svg(include_junctions=True, separate=True)"
   ]
  },
  {
   "cell_type": "code",
   "execution_count": null,
   "metadata": {},
   "outputs": [],
   "source": [
    "from IPython.display import SVG, display\n",
    "from shapely.ops import linemerge\n",
    "\n",
    "def svg_split_view(geom):\n",
    "    svg_custom = geom._repr_svg_()\n",
    "    for c in ['green','blue', 'orange', 'red']:    \n",
    "        svg_custom = svg_custom.replace('stroke=\"#66cc99\"', f'stroke=\"{c}\"', 1)\n",
    "    display(SVG(svg_custom))\n",
    "    \n",
    "in_geoms = loads('MULTILINESTRING ((5 0, 4 -1, 4 0), (4 0, 4 1, 3 1, 3 0), (3 0, 2 1, 2 0), (1 0, 1 1))')\n",
    "svg_split_view(in_geoms) # 4 non shared arcs"
   ]
  },
  {
   "cell_type": "code",
   "execution_count": null,
   "metadata": {},
   "outputs": [],
   "source": [
    "import topojson as tp\n",
    "import geopandas as gpd\n",
    "import json\n",
    "\n",
    "# Load JSON geometry\n",
    "json_string = '{\"type\": \"FeatureCollection\", \"features\": [{\"id\": \"0\", \"type\": \"Feature\", \"properties\": {\"certainty\": 4}, \"geometry\": {\"type\": \"Polygon\", \"coordinates\": [[[556395.0, -2289375.0], [556485.0, -2289375.0], [556485.0, -2289735.0], [556455.0, -2289735.0], [556455.0, -2289705.0], [556395.0, -2289705.0], [556395.0, -2289735.0], [556335.0, -2289735.0], [556335.0, -2289705.0], [556365.0, -2289705.0], [556365.0, -2289675.0], [556395.0, -2289675.0], [556395.0, -2289615.0], [556365.0, -2289615.0], [556365.0, -2289555.0], [556335.0, -2289555.0], [556335.0, -2289465.0], [556365.0, -2289465.0], [556365.0, -2289435.0], [556395.0, -2289435.0], [556395.0, -2289375.0]]]}}, {\"id\": \"1\", \"type\": \"Feature\", \"properties\": {\"certainty\": 4}, \"geometry\": {\"type\": \"Polygon\", \"coordinates\": [[[556065.0, -2289075.0], [556155.0, -2289075.0], [556155.0, -2289135.0], [556125.0, -2289135.0], [556125.0, -2289195.0], [556095.0, -2289195.0], [556095.0, -2289225.0], [556065.0, -2289225.0], [556065.0, -2289375.0], [556095.0, -2289375.0], [556095.0, -2289465.0], [556125.0, -2289465.0], [556125.0, -2289525.0], [556155.0, -2289525.0], [556155.0, -2289615.0], [556125.0, -2289615.0], [556125.0, -2289645.0], [556155.0, -2289645.0], [556155.0, -2289675.0], [556125.0, -2289675.0], [556125.0, -2289735.0], [556155.0, -2289735.0], [556155.0, -2289765.0], [556185.0, -2289765.0], [556185.0, -2289795.0], [556215.0, -2289795.0], [556215.0, -2289825.0], [556245.0, -2289825.0], [556245.0, -2289855.0], [556305.0, -2289855.0], [556305.0, -2289825.0], [556335.0, -2289825.0], [556335.0, -2289795.0], [556365.0, -2289795.0], [556365.0, -2289825.0], [556395.0, -2289825.0], [556395.0, -2289855.0], [556455.0, -2289855.0], [556455.0, -2289825.0], [556485.0, -2289825.0], [556485.0, -2289885.0], [556455.0, -2289885.0], [556455.0, -2289915.0], [556425.0, -2289915.0], [556395.0, -2289915.0], [556395.0, -2289945.0], [556365.0, -2289945.0], [556305.0, -2289945.0], [556305.0, -2289975.0], [556275.0, -2289975.0], [556245.0, -2289975.0], [556245.0, -2290005.0], [556215.0, -2290005.0], [556155.0, -2290005.0], [556155.0, -2290035.0], [556125.0, -2290035.0], [556095.0, -2290035.0], [556095.0, -2290065.0], [556065.0, -2290065.0], [556035.0, -2290065.0], [556035.0, -2290095.0], [556005.0, -2290095.0], [556000.0, -2290095.0], [556000.0, -2289135.0], [556005.0, -2289135.0], [556035.0, -2289135.0], [556035.0, -2289105.0], [556065.0, -2289105.0], [556065.0, -2289075.0]]]}}, {\"id\": \"2\", \"type\": \"Feature\", \"properties\": {\"certainty\": 0}, \"geometry\": {\"type\": \"MultiPolygon\", \"coordinates\": [[[[556000.0, -2290095.0], [556005.0, -2290095.0], [556035.0, -2290095.0], [556035.0, -2290065.0], [556065.0, -2290065.0], [556095.0, -2290065.0], [556095.0, -2290035.0], [556125.0, -2290035.0], [556155.0, -2290035.0], [556155.0, -2290005.0], [556215.0, -2290005.0], [556245.0, -2290005.0], [556245.0, -2289975.0], [556275.0, -2289975.0], [556305.0, -2289975.0], [556305.0, -2289945.0], [556365.0, -2289945.0], [556395.0, -2289945.0], [556395.0, -2289915.0], [556425.0, -2289915.0], [556455.0, -2289915.0], [556455.0, -2289885.0], [556485.0, -2289885.0], [556485.0, -2290250.0], [556000.0, -2290250.0], [556000.0, -2290095.0]]], [[[556485.0, -2289000.0], [556485.0, -2289375.0], [556455.0, -2289375.0], [556395.0, -2289375.0], [556395.0, -2289435.0], [556365.0, -2289435.0], [556365.0, -2289465.0], [556335.0, -2289465.0], [556335.0, -2289555.0], [556365.0, -2289555.0], [556365.0, -2289615.0], [556395.0, -2289615.0], [556395.0, -2289675.0], [556365.0, -2289675.0], [556365.0, -2289705.0], [556335.0, -2289705.0], [556335.0, -2289735.0], [556395.0, -2289735.0], [556395.0, -2289705.0], [556455.0, -2289705.0], [556455.0, -2289735.0], [556485.0, -2289735.0], [556485.0, -2289825.0], [556455.0, -2289825.0], [556455.0, -2289855.0], [556395.0, -2289855.0], [556395.0, -2289825.0], [556365.0, -2289825.0], [556365.0, -2289795.0], [556335.0, -2289795.0], [556335.0, -2289825.0], [556305.0, -2289825.0], [556305.0, -2289855.0], [556245.0, -2289855.0], [556245.0, -2289825.0], [556215.0, -2289825.0], [556215.0, -2289795.0], [556185.0, -2289795.0], [556185.0, -2289765.0], [556155.0, -2289765.0], [556155.0, -2289735.0], [556125.0, -2289735.0], [556125.0, -2289675.0], [556155.0, -2289675.0], [556155.0, -2289645.0], [556125.0, -2289645.0], [556125.0, -2289615.0], [556155.0, -2289615.0], [556155.0, -2289525.0], [556125.0, -2289525.0], [556125.0, -2289465.0], [556095.0, -2289465.0], [556095.0, -2289375.0], [556065.0, -2289375.0], [556065.0, -2289225.0], [556095.0, -2289225.0], [556095.0, -2289195.0], [556125.0, -2289195.0], [556125.0, -2289135.0], [556155.0, -2289135.0], [556155.0, -2289075.0], [556065.0, -2289075.0], [556065.0, -2289105.0], [556035.0, -2289105.0], [556035.0, -2289135.0], [556005.0, -2289135.0], [556000.0, -2289135.0], [556000.0, -2289000.0], [556485.0, -2289000.0]]]]}}]}'\n",
    "json_data = json.loads(json_string)\n",
    "\n",
    "# Convert to GeoDataFrame\n",
    "gdf = gpd.GeoDataFrame.from_features(json_data[\"features\"])\n",
    "\n",
    "# Construct topology and simplify (with shared_coords=False)\n",
    "topo = tp.Topology(gdf, shared_coords=False, prequantize=False)\n",
    "simplified_gdf = topo.toposimplify(30).to_gdf() "
   ]
  },
  {
   "cell_type": "code",
   "execution_count": null,
   "metadata": {},
   "outputs": [],
   "source": [
    "simplified_gdf"
   ]
  },
  {
   "cell_type": "code",
   "execution_count": null,
   "metadata": {},
   "outputs": [],
   "source": [
    "topo"
   ]
  },
  {
   "cell_type": "code",
   "execution_count": null,
   "metadata": {},
   "outputs": [],
   "source": [
    "topo.toposimplify(30).to_alt(color='properties.certainty:Q')"
   ]
  },
  {
   "cell_type": "code",
   "execution_count": null,
   "metadata": {},
   "outputs": [],
   "source": [
    "out_geoms = linemerge(in_geoms)\n",
    "svg_split_view(out_geoms) # 3 out of 4 can be merged"
   ]
  },
  {
   "cell_type": "code",
   "execution_count": null,
   "metadata": {},
   "outputs": [],
   "source": [
    "import pandas\n",
    "import geopandas\n",
    "import topojson as tp\n",
    "from shapely.wkt import loads\n",
    "\n",
    "df = pandas.DataFrame({\n",
    "    \"name\": [\"P1\", \"P2\", \"P3\"],\n",
    "    \"geometry\": [\n",
    "        \"POLYGON ((60.05 88.85, 60.3 86.9, 61.9 73.4, 51.85 72.1, 50.8 80.5, 57.95 81.4, 57.5 85.05, 59.05 85.25, 58.85 87.15, 60.05 88.85))\",\n",
    "        \"POLYGON ((66.35 90.55, 65.75 86.8, 64.5 81.1, 63.7 77, 63 73.55, 61.9 73.4, 60.3 86.9, 64.15 87.45, 64.85 90.8, 66.35 90.55))\",\n",
    "        \"POLYGON ((65.75 86.8, 70.5 87.45, 71.45 79, 69.85 78.85, 70.3 74.5, 64.15 73.75, 63.7 77, 64.5 81.1, 66.45 81.35, 65.75 86.8))\"\n",
    "    ]\n",
    "})\n",
    "\n",
    "df['geometry'] = df['geometry'].apply(loads)\n",
    "gdf = geopandas.GeoDataFrame(df, geometry='geometry', crs='EPSG:27700')\n",
    "topo = tp.Topology(gdf, prequantize=False)"
   ]
  },
  {
   "cell_type": "code",
   "execution_count": null,
   "metadata": {},
   "outputs": [],
   "source": [
    "topo.to_gdf()"
   ]
  },
  {
   "cell_type": "code",
   "execution_count": null,
   "metadata": {},
   "outputs": [],
   "source": [
    "topo.to_alt(color='properties.name:N')"
   ]
  },
  {
   "cell_type": "code",
   "execution_count": null,
   "metadata": {},
   "outputs": [],
   "source": [
    "The issue is in the process when the remaining non-shared arcs are tried to be merged again. \n",
    "In this process are currently two options covered \n",
    "(1) the first and last non-shared arc can be merged and \n",
    "(2) all arcs can be merged. Until know this were the two situations \n",
    "\n",
    "It seems the assumption that this logic works for all cases has been proven wrong.\n",
    "Somehow need to find a better method to detect which segment-indices where merged"
   ]
  },
  {
   "cell_type": "code",
   "execution_count": null,
   "metadata": {},
   "outputs": [],
   "source": [
    "The shared segments of a linestring are collected from all geometries. \n",
    "The remaining non-shared segments of each linestring are then tried to be merged. These merged contigious \n",
    "segment replaces the"
   ]
  },
  {
   "cell_type": "code",
   "execution_count": null,
   "metadata": {},
   "outputs": [],
   "source": []
  },
  {
   "cell_type": "code",
   "execution_count": null,
   "metadata": {},
   "outputs": [],
   "source": [
    "import pandas\n",
    "import geopandas\n",
    "import topojson as tp\n",
    "from shapely.wkt import loads\n",
    "\n",
    "df = pandas.DataFrame({\n",
    "    \"name\": [\"P1\", \"P2\", \"P3\"],\n",
    "    \"geometry\": [\n",
    "        \"POLYGON ((60.05 88.85, 60.3 86.9, 61.9 73.4, 51.85 72.1, 50.8 80.5, 57.95 81.4, 57.5 85.05, 59.05 85.25, 58.85 87.15, 60.05 88.85))\",\n",
    "        \"POLYGON ((66.35 90.55, 65.75 86.8, 64.5 81.1, 63.7 77, 63 73.55, 61.9 73.4, 60.3 86.9, 64.15 87.45, 64.85 90.8, 66.35 90.55))\",\n",
    "        \"POLYGON ((65.75 86.8, 70.5 87.45, 71.45 79, 69.85 78.85, 70.3 74.5, 64.15 73.75, 63.7 77, 64.5 81.1, 66.45 81.35, 65.75 86.8))\"\n",
    "    ]\n",
    "})\n",
    "\n",
    "df['geometry'] = df['geometry'].apply(loads)\n",
    "gdf = geopandas.GeoDataFrame(df, geometry='geometry', crs='EPSG:27700')\n",
    "topo = Dedup(gdf, options={'prequantize':False})"
   ]
  },
  {
   "cell_type": "code",
   "execution_count": null,
   "metadata": {},
   "outputs": [],
   "source": [
    "topo"
   ]
  },
  {
   "cell_type": "code",
   "execution_count": null,
   "metadata": {},
   "outputs": [],
   "source": []
  },
  {
   "cell_type": "code",
   "execution_count": null,
   "metadata": {},
   "outputs": [],
   "source": [
    "import topojson as tp\n",
    "import geopandas as gpd\n",
    "\n",
    "# Read file\n",
    "gdf = gpd.read_file(r\"C:\\Users\\lilei\\Downloads\\polygons\\polygons.json\")\n",
    "\n",
    "# Construct topology and simplify\n",
    "topo = tp.Topology(gdf, prequantize=False)\n",
    "simplified_gdf = topo.toposimplify(30).to_gdf()"
   ]
  },
  {
   "cell_type": "code",
   "execution_count": null,
   "metadata": {},
   "outputs": [],
   "source": []
  }
 ],
 "metadata": {
  "kernelspec": {
   "display_name": "Python 3",
   "language": "python",
   "name": "python3"
  },
  "language_info": {
   "codemirror_mode": {
    "name": "ipython",
    "version": 3
   },
   "file_extension": ".py",
   "mimetype": "text/x-python",
   "name": "python",
   "nbconvert_exporter": "python",
   "pygments_lexer": "ipython3",
   "version": "3.7.4"
  }
 },
 "nbformat": 4,
 "nbformat_minor": 4
}
